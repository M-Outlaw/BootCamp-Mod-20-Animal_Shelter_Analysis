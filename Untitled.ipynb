{
 "cells": [
  {
   "cell_type": "code",
   "execution_count": null,
   "id": "587108b6",
   "metadata": {},
   "outputs": [],
   "source": [
    "#Dependencies\n",
    "import pandas as pd\n",
    "from sklearn.ensemble import RandomForestClassifier\n",
    "from sklearn.preprocessing import StandardScaler\n",
    "from sklearn.model_selection import train_test_split\n",
    "from sklearn.metrics import confusion_matrix, accuracy_score, classification_report\n"
   ]
  },
  {
   "cell_type": "code",
   "execution_count": null,
   "id": "59be6a7b",
   "metadata": {},
   "outputs": [],
   "source": [
    "#Load Data\n",
    "#Will be database connection, don't have that yet"
   ]
  },
  {
   "cell_type": "code",
   "execution_count": null,
   "id": "ccb86b2a",
   "metadata": {},
   "outputs": [],
   "source": [
    "#temporary\n",
    "data=pd.read_csv(\"Resources/merged_AKC.csv\")\n",
    "data.head()"
   ]
  },
  {
   "cell_type": "code",
   "execution_count": null,
   "id": "3f775eae",
   "metadata": {},
   "outputs": [],
   "source": [
    "data_coded=pd.get_dummies(data, columns=[\"Age\", \"\"])"
   ]
  },
  {
   "cell_type": "code",
   "execution_count": null,
   "id": "1cb93daf",
   "metadata": {},
   "outputs": [],
   "source": [
    "X=data.copy()\n",
    "X=X.drop(\"Outcome Type\")"
   ]
  }
 ],
 "metadata": {
  "kernelspec": {
   "display_name": "mlenv",
   "language": "python",
   "name": "mlenv"
  },
  "language_info": {
   "codemirror_mode": {
    "name": "ipython",
    "version": 3
   },
   "file_extension": ".py",
   "mimetype": "text/x-python",
   "name": "python",
   "nbconvert_exporter": "python",
   "pygments_lexer": "ipython3",
   "version": "3.7.11"
  }
 },
 "nbformat": 4,
 "nbformat_minor": 5
}
