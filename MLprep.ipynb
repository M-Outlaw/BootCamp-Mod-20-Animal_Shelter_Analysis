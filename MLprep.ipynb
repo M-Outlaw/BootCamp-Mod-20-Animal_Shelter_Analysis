{
 "cells": [
  {
   "cell_type": "code",
   "execution_count": 1,
   "id": "e266b87a",
   "metadata": {},
   "outputs": [],
   "source": [
    "#Dependencies\n",
    "import pandas as pd\n",
    "\n",
    "from sklearn.model_selection import train_test_split\n",
    "from sklearn.decomposition import PCA\n",
    "from sklearn.metrics import confusion_matrix, accuracy_score, classification_report\n",
    "import datetime as dt\n",
    "import numpy as np\n",
    "from collections import Counter "
   ]
  },
  {
   "cell_type": "code",
   "execution_count": 2,
   "id": "15bc1bb7",
   "metadata": {},
   "outputs": [],
   "source": [
    "#Load Data\n",
    "#Will be database connection, don't have that yet"
   ]
  },
  {
   "cell_type": "code",
   "execution_count": 65,
   "id": "33676cd5",
   "metadata": {},
   "outputs": [
    {
     "data": {
      "text/html": [
       "<div>\n",
       "<style scoped>\n",
       "    .dataframe tbody tr th:only-of-type {\n",
       "        vertical-align: middle;\n",
       "    }\n",
       "\n",
       "    .dataframe tbody tr th {\n",
       "        vertical-align: top;\n",
       "    }\n",
       "\n",
       "    .dataframe thead th {\n",
       "        text-align: right;\n",
       "    }\n",
       "</style>\n",
       "<table border=\"1\" class=\"dataframe\">\n",
       "  <thead>\n",
       "    <tr style=\"text-align: right;\">\n",
       "      <th></th>\n",
       "      <th>Animal ID</th>\n",
       "      <th>Intake_Type</th>\n",
       "      <th>Intake_Condition</th>\n",
       "      <th>Breed</th>\n",
       "      <th>Color</th>\n",
       "      <th>Age_in_Years</th>\n",
       "      <th>Intactness</th>\n",
       "      <th>Sex</th>\n",
       "      <th>Age</th>\n",
       "      <th>Breed_Type</th>\n",
       "      <th>...</th>\n",
       "      <th>Breed_update</th>\n",
       "      <th>Breed1</th>\n",
       "      <th>Breed2</th>\n",
       "      <th>AKC_group1</th>\n",
       "      <th>Size1</th>\n",
       "      <th>AKC_group2</th>\n",
       "      <th>Size2</th>\n",
       "      <th>Sorted_Color</th>\n",
       "      <th>Restricted</th>\n",
       "      <th>Multiple_Intakes</th>\n",
       "    </tr>\n",
       "  </thead>\n",
       "  <tbody>\n",
       "    <tr>\n",
       "      <th>0</th>\n",
       "      <td>A006100</td>\n",
       "      <td>Public Assist</td>\n",
       "      <td>Normal</td>\n",
       "      <td>Spinone Italiano Mix</td>\n",
       "      <td>Yellow/White</td>\n",
       "      <td>6.0</td>\n",
       "      <td>Altered</td>\n",
       "      <td>Male</td>\n",
       "      <td>Adult</td>\n",
       "      <td>Mix</td>\n",
       "      <td>...</td>\n",
       "      <td>Spinone Italiano</td>\n",
       "      <td>Spinone Italiano</td>\n",
       "      <td>NaN</td>\n",
       "      <td>sporting</td>\n",
       "      <td>large</td>\n",
       "      <td>NaN</td>\n",
       "      <td>NaN</td>\n",
       "      <td>Tan</td>\n",
       "      <td>No</td>\n",
       "      <td>0</td>\n",
       "    </tr>\n",
       "    <tr>\n",
       "      <th>1</th>\n",
       "      <td>A006100</td>\n",
       "      <td>Public Assist</td>\n",
       "      <td>Normal</td>\n",
       "      <td>Spinone Italiano Mix</td>\n",
       "      <td>Yellow/White</td>\n",
       "      <td>7.0</td>\n",
       "      <td>Altered</td>\n",
       "      <td>Male</td>\n",
       "      <td>Adult</td>\n",
       "      <td>Mix</td>\n",
       "      <td>...</td>\n",
       "      <td>Spinone Italiano</td>\n",
       "      <td>Spinone Italiano</td>\n",
       "      <td>NaN</td>\n",
       "      <td>sporting</td>\n",
       "      <td>large</td>\n",
       "      <td>NaN</td>\n",
       "      <td>NaN</td>\n",
       "      <td>Tan</td>\n",
       "      <td>No</td>\n",
       "      <td>1</td>\n",
       "    </tr>\n",
       "    <tr>\n",
       "      <th>2</th>\n",
       "      <td>A006100</td>\n",
       "      <td>Stray</td>\n",
       "      <td>Normal</td>\n",
       "      <td>Spinone Italiano Mix</td>\n",
       "      <td>Yellow/White</td>\n",
       "      <td>10.0</td>\n",
       "      <td>Altered</td>\n",
       "      <td>Male</td>\n",
       "      <td>Senior</td>\n",
       "      <td>Mix</td>\n",
       "      <td>...</td>\n",
       "      <td>Spinone Italiano</td>\n",
       "      <td>Spinone Italiano</td>\n",
       "      <td>NaN</td>\n",
       "      <td>sporting</td>\n",
       "      <td>large</td>\n",
       "      <td>NaN</td>\n",
       "      <td>NaN</td>\n",
       "      <td>Tan</td>\n",
       "      <td>No</td>\n",
       "      <td>1</td>\n",
       "    </tr>\n",
       "    <tr>\n",
       "      <th>3</th>\n",
       "      <td>A047759</td>\n",
       "      <td>Owner Surrender</td>\n",
       "      <td>Normal</td>\n",
       "      <td>Dachshund</td>\n",
       "      <td>Tricolor</td>\n",
       "      <td>10.0</td>\n",
       "      <td>Altered</td>\n",
       "      <td>Male</td>\n",
       "      <td>Senior</td>\n",
       "      <td>Pure</td>\n",
       "      <td>...</td>\n",
       "      <td>Dachshund</td>\n",
       "      <td>Dachshund</td>\n",
       "      <td>NaN</td>\n",
       "      <td>hound</td>\n",
       "      <td>small</td>\n",
       "      <td>NaN</td>\n",
       "      <td>NaN</td>\n",
       "      <td>Tricolor</td>\n",
       "      <td>No</td>\n",
       "      <td>0</td>\n",
       "    </tr>\n",
       "    <tr>\n",
       "      <th>4</th>\n",
       "      <td>A134067</td>\n",
       "      <td>Public Assist</td>\n",
       "      <td>Injured</td>\n",
       "      <td>Shetland Sheepdog</td>\n",
       "      <td>Brown/White</td>\n",
       "      <td>16.0</td>\n",
       "      <td>Altered</td>\n",
       "      <td>Male</td>\n",
       "      <td>Senior</td>\n",
       "      <td>Pure</td>\n",
       "      <td>...</td>\n",
       "      <td>Shetland Sheepdog</td>\n",
       "      <td>Shetland Sheepdog</td>\n",
       "      <td>NaN</td>\n",
       "      <td>herding</td>\n",
       "      <td>small</td>\n",
       "      <td>NaN</td>\n",
       "      <td>NaN</td>\n",
       "      <td>Brown/White</td>\n",
       "      <td>No</td>\n",
       "      <td>0</td>\n",
       "    </tr>\n",
       "  </tbody>\n",
       "</table>\n",
       "<p>5 rows × 24 columns</p>\n",
       "</div>"
      ],
      "text/plain": [
       "  Animal ID      Intake_Type Intake_Condition                 Breed  \\\n",
       "0   A006100    Public Assist           Normal  Spinone Italiano Mix   \n",
       "1   A006100    Public Assist           Normal  Spinone Italiano Mix   \n",
       "2   A006100            Stray           Normal  Spinone Italiano Mix   \n",
       "3   A047759  Owner Surrender           Normal             Dachshund   \n",
       "4   A134067    Public Assist          Injured     Shetland Sheepdog   \n",
       "\n",
       "          Color  Age_in_Years Intactness   Sex     Age Breed_Type  ...  \\\n",
       "0  Yellow/White           6.0    Altered  Male   Adult        Mix  ...   \n",
       "1  Yellow/White           7.0    Altered  Male   Adult        Mix  ...   \n",
       "2  Yellow/White          10.0    Altered  Male  Senior        Mix  ...   \n",
       "3      Tricolor          10.0    Altered  Male  Senior       Pure  ...   \n",
       "4   Brown/White          16.0    Altered  Male  Senior       Pure  ...   \n",
       "\n",
       "        Breed_update             Breed1  Breed2  AKC_group1  Size1 AKC_group2  \\\n",
       "0   Spinone Italiano   Spinone Italiano     NaN    sporting  large        NaN   \n",
       "1   Spinone Italiano   Spinone Italiano     NaN    sporting  large        NaN   \n",
       "2   Spinone Italiano   Spinone Italiano     NaN    sporting  large        NaN   \n",
       "3          Dachshund          Dachshund     NaN       hound  small        NaN   \n",
       "4  Shetland Sheepdog  Shetland Sheepdog     NaN     herding  small        NaN   \n",
       "\n",
       "  Size2 Sorted_Color Restricted Multiple_Intakes  \n",
       "0   NaN          Tan         No                0  \n",
       "1   NaN          Tan         No                1  \n",
       "2   NaN          Tan         No                1  \n",
       "3   NaN     Tricolor         No                0  \n",
       "4   NaN  Brown/White         No                0  \n",
       "\n",
       "[5 rows x 24 columns]"
      ]
     },
     "execution_count": 65,
     "metadata": {},
     "output_type": "execute_result"
    }
   ],
   "source": [
    "#temporary\n",
    "data=pd.read_csv(\"Resources/merged_AKC.csv\")\n",
    "data.head()"
   ]
  },
  {
   "cell_type": "code",
   "execution_count": 66,
   "id": "6cda2e32",
   "metadata": {},
   "outputs": [],
   "source": [
    "data[\"in_Month\"]=data[\"in_Month\"].astype(str)\n",
    "nums=(\"1\",\"2\",\"3\",\"4\",\"5\",\"6\",\"7\",\"8\",\"9\",\"10\",\"11\",\"12\")\n",
    "months=(\"Jan\",\"Feb\",\"Mar\",\"Apr\",\"May\",\"June\",\"July\",\"Aug\",\"Sep\",\"Oct\",\"Nov\",\"Dec\")\n",
    "data[\"in_Month\"]= data[\"in_Month\"].replace(nums,months)\n"
   ]
  },
  {
   "cell_type": "code",
   "execution_count": 67,
   "id": "ad86068f",
   "metadata": {},
   "outputs": [],
   "source": [
    "#Drop original columns not needed\n",
    "data=data.drop(columns=[\"Animal ID\",\"Breed\", \"Color\", \"Age_in_Years\"])"
   ]
  },
  {
   "cell_type": "code",
   "execution_count": 68,
   "id": "7fc63e0b",
   "metadata": {},
   "outputs": [],
   "source": [
    "#Drop rows where Outcome Type is missing or labeled \"Missing\", disposal and rto-adopt\n",
    "data=data.dropna(subset=[\"Outcome_Type\"])\n",
    "data=data.drop(data[data[\"Outcome_Type\"]==\"Missing\"].index)\n",
    "data=data.drop(data[data[\"Outcome_Type\"]==\"Disposal\"].index)\n",
    "#data=data.drop(data[data[\"Outcome_Type\"]==\"Rto-Adopt\"].index)"
   ]
  },
  {
   "cell_type": "code",
   "execution_count": 69,
   "id": "60102fda",
   "metadata": {},
   "outputs": [
    {
     "data": {
      "text/html": [
       "<div>\n",
       "<style scoped>\n",
       "    .dataframe tbody tr th:only-of-type {\n",
       "        vertical-align: middle;\n",
       "    }\n",
       "\n",
       "    .dataframe tbody tr th {\n",
       "        vertical-align: top;\n",
       "    }\n",
       "\n",
       "    .dataframe thead th {\n",
       "        text-align: right;\n",
       "    }\n",
       "</style>\n",
       "<table border=\"1\" class=\"dataframe\">\n",
       "  <thead>\n",
       "    <tr style=\"text-align: right;\">\n",
       "      <th></th>\n",
       "      <th>Type</th>\n",
       "      <th>Cond</th>\n",
       "      <th>Intactness</th>\n",
       "      <th>Sex</th>\n",
       "      <th>Age</th>\n",
       "      <th>Breed_Type</th>\n",
       "      <th>Outcome</th>\n",
       "      <th>LS</th>\n",
       "      <th>m</th>\n",
       "      <th>y</th>\n",
       "      <th>Breed_update</th>\n",
       "      <th>Breed1</th>\n",
       "      <th>Breed2</th>\n",
       "      <th>group1</th>\n",
       "      <th>Size1</th>\n",
       "      <th>group2</th>\n",
       "      <th>Size2</th>\n",
       "      <th>Sorted_Color</th>\n",
       "      <th>Restricted</th>\n",
       "      <th>Multiple_Intakes</th>\n",
       "    </tr>\n",
       "  </thead>\n",
       "  <tbody>\n",
       "    <tr>\n",
       "      <th>0</th>\n",
       "      <td>Public Assist</td>\n",
       "      <td>Normal</td>\n",
       "      <td>Altered</td>\n",
       "      <td>Male</td>\n",
       "      <td>Adult</td>\n",
       "      <td>Mix</td>\n",
       "      <td>Return to Owner</td>\n",
       "      <td>2</td>\n",
       "      <td>Mar</td>\n",
       "      <td>2014</td>\n",
       "      <td>Spinone Italiano</td>\n",
       "      <td>Spinone Italiano</td>\n",
       "      <td>NaN</td>\n",
       "      <td>sporting</td>\n",
       "      <td>large</td>\n",
       "      <td>NaN</td>\n",
       "      <td>NaN</td>\n",
       "      <td>Tan</td>\n",
       "      <td>No</td>\n",
       "      <td>0</td>\n",
       "    </tr>\n",
       "    <tr>\n",
       "      <th>1</th>\n",
       "      <td>Public Assist</td>\n",
       "      <td>Normal</td>\n",
       "      <td>Altered</td>\n",
       "      <td>Male</td>\n",
       "      <td>Adult</td>\n",
       "      <td>Mix</td>\n",
       "      <td>Return to Owner</td>\n",
       "      <td>2</td>\n",
       "      <td>Dec</td>\n",
       "      <td>2014</td>\n",
       "      <td>Spinone Italiano</td>\n",
       "      <td>Spinone Italiano</td>\n",
       "      <td>NaN</td>\n",
       "      <td>sporting</td>\n",
       "      <td>large</td>\n",
       "      <td>NaN</td>\n",
       "      <td>NaN</td>\n",
       "      <td>Tan</td>\n",
       "      <td>No</td>\n",
       "      <td>1</td>\n",
       "    </tr>\n",
       "    <tr>\n",
       "      <th>2</th>\n",
       "      <td>Stray</td>\n",
       "      <td>Normal</td>\n",
       "      <td>Altered</td>\n",
       "      <td>Male</td>\n",
       "      <td>Senior</td>\n",
       "      <td>Mix</td>\n",
       "      <td>Return to Owner</td>\n",
       "      <td>1</td>\n",
       "      <td>Dec</td>\n",
       "      <td>2017</td>\n",
       "      <td>Spinone Italiano</td>\n",
       "      <td>Spinone Italiano</td>\n",
       "      <td>NaN</td>\n",
       "      <td>sporting</td>\n",
       "      <td>large</td>\n",
       "      <td>NaN</td>\n",
       "      <td>NaN</td>\n",
       "      <td>Tan</td>\n",
       "      <td>No</td>\n",
       "      <td>1</td>\n",
       "    </tr>\n",
       "    <tr>\n",
       "      <th>3</th>\n",
       "      <td>Owner Surrender</td>\n",
       "      <td>Normal</td>\n",
       "      <td>Altered</td>\n",
       "      <td>Male</td>\n",
       "      <td>Senior</td>\n",
       "      <td>Pure</td>\n",
       "      <td>Transfer</td>\n",
       "      <td>6</td>\n",
       "      <td>Apr</td>\n",
       "      <td>2014</td>\n",
       "      <td>Dachshund</td>\n",
       "      <td>Dachshund</td>\n",
       "      <td>NaN</td>\n",
       "      <td>hound</td>\n",
       "      <td>small</td>\n",
       "      <td>NaN</td>\n",
       "      <td>NaN</td>\n",
       "      <td>Tricolor</td>\n",
       "      <td>No</td>\n",
       "      <td>0</td>\n",
       "    </tr>\n",
       "    <tr>\n",
       "      <th>4</th>\n",
       "      <td>Public Assist</td>\n",
       "      <td>Injured</td>\n",
       "      <td>Altered</td>\n",
       "      <td>Male</td>\n",
       "      <td>Senior</td>\n",
       "      <td>Pure</td>\n",
       "      <td>Return to Owner</td>\n",
       "      <td>1</td>\n",
       "      <td>Nov</td>\n",
       "      <td>2013</td>\n",
       "      <td>Shetland Sheepdog</td>\n",
       "      <td>Shetland Sheepdog</td>\n",
       "      <td>NaN</td>\n",
       "      <td>herding</td>\n",
       "      <td>small</td>\n",
       "      <td>NaN</td>\n",
       "      <td>NaN</td>\n",
       "      <td>Brown/White</td>\n",
       "      <td>No</td>\n",
       "      <td>0</td>\n",
       "    </tr>\n",
       "  </tbody>\n",
       "</table>\n",
       "</div>"
      ],
      "text/plain": [
       "              Type     Cond Intactness   Sex     Age Breed_Type  \\\n",
       "0    Public Assist   Normal    Altered  Male   Adult        Mix   \n",
       "1    Public Assist   Normal    Altered  Male   Adult        Mix   \n",
       "2            Stray   Normal    Altered  Male  Senior        Mix   \n",
       "3  Owner Surrender   Normal    Altered  Male  Senior       Pure   \n",
       "4    Public Assist  Injured    Altered  Male  Senior       Pure   \n",
       "\n",
       "           Outcome  LS    m     y       Breed_update             Breed1  \\\n",
       "0  Return to Owner   2  Mar  2014   Spinone Italiano   Spinone Italiano   \n",
       "1  Return to Owner   2  Dec  2014   Spinone Italiano   Spinone Italiano   \n",
       "2  Return to Owner   1  Dec  2017   Spinone Italiano   Spinone Italiano   \n",
       "3         Transfer   6  Apr  2014          Dachshund          Dachshund   \n",
       "4  Return to Owner   1  Nov  2013  Shetland Sheepdog  Shetland Sheepdog   \n",
       "\n",
       "  Breed2    group1  Size1 group2 Size2 Sorted_Color Restricted  \\\n",
       "0    NaN  sporting  large    NaN   NaN          Tan         No   \n",
       "1    NaN  sporting  large    NaN   NaN          Tan         No   \n",
       "2    NaN  sporting  large    NaN   NaN          Tan         No   \n",
       "3    NaN     hound  small    NaN   NaN     Tricolor         No   \n",
       "4    NaN   herding  small    NaN   NaN  Brown/White         No   \n",
       "\n",
       "   Multiple_Intakes  \n",
       "0                 0  \n",
       "1                 1  \n",
       "2                 1  \n",
       "3                 0  \n",
       "4                 0  "
      ]
     },
     "execution_count": 69,
     "metadata": {},
     "output_type": "execute_result"
    }
   ],
   "source": [
    "#rename columns\n",
    "data=data.rename(columns={\"Intake_Type\": \"Type\", \"Intake_Condition\": \"Cond\",\n",
    "                          \"Outcome_Type\":\"Outcome\", \"Length_of_Stay\":\"LS\", \"in_Month\":\"m\", \"in_Year\":\"y\",\n",
    "                          \"AKC_group1\":\"group1\", \"AKC_group2\": \"group2\"})\n",
    "data.head()"
   ]
  },
  {
   "cell_type": "code",
   "execution_count": 70,
   "id": "1be71b38",
   "metadata": {},
   "outputs": [
    {
     "name": "stdout",
     "output_type": "stream",
     "text": [
      "count    75879.000000\n",
      "mean        18.801526\n",
      "std         48.284436\n",
      "min          1.000000\n",
      "25%          3.000000\n",
      "50%          6.000000\n",
      "75%         13.000000\n",
      "max       1914.000000\n",
      "Name: LS, dtype: float64\n"
     ]
    }
   ],
   "source": [
    "print(data[\"LS\"].describe())"
   ]
  },
  {
   "cell_type": "code",
   "execution_count": 71,
   "id": "f80e8b5b",
   "metadata": {},
   "outputs": [
    {
     "data": {
      "text/plain": [
       "Counter({'Return to Owner': 20165,\n",
       "         'Transfer': 16533,\n",
       "         'Adoption': 36373,\n",
       "         'Euthanasia': 1853,\n",
       "         'Died': 294,\n",
       "         'Rto-Adopt': 661})"
      ]
     },
     "execution_count": 71,
     "metadata": {},
     "output_type": "execute_result"
    }
   ],
   "source": [
    "Counter(data[\"Outcome\"])"
   ]
  },
  {
   "cell_type": "code",
   "execution_count": 72,
   "id": "eea94d96",
   "metadata": {},
   "outputs": [
    {
     "data": {
      "text/plain": [
       "count    73732.000000\n",
       "mean        18.874356\n",
       "std         48.170861\n",
       "min          1.000000\n",
       "25%          3.000000\n",
       "50%          6.000000\n",
       "75%         13.000000\n",
       "max       1914.000000\n",
       "Name: LS, dtype: float64"
      ]
     },
     "execution_count": 72,
     "metadata": {},
     "output_type": "execute_result"
    }
   ],
   "source": [
    "#drop bad outcomes to check LS metrics\n",
    "good=data.drop(data[data[\"Outcome\"]==\"Euthanasia\"].index)\n",
    "good=good.drop(data[data[\"Outcome\"]==\"Died\"].index)\n",
    "\n",
    "good[\"LS\"].describe()"
   ]
  },
  {
   "cell_type": "code",
   "execution_count": 73,
   "id": "173dc484",
   "metadata": {},
   "outputs": [
    {
     "data": {
      "text/plain": [
       "array([[<AxesSubplot:title={'center':'LS'}>]], dtype=object)"
      ]
     },
     "execution_count": 73,
     "metadata": {},
     "output_type": "execute_result"
    },
    {
     "data": {
      "image/png": "[encoded data removed]",
      "text/plain": [
       "<Figure size 432x288 with 1 Axes>"
      ]
     },
     "metadata": {
      "needs_background": "light"
     },
     "output_type": "display_data"
    }
   ],
   "source": [
    "pd.DataFrame.hist(data=good,column=\"LS\", bins=[6,8,10,12,14,16])\n"
   ]
  },
  {
   "cell_type": "code",
   "execution_count": 74,
   "id": "a7e76c16",
   "metadata": {},
   "outputs": [],
   "source": [
    "data[\"LS_75\"]=np.where((data[\"LS\"]<13),0,1)\n"
   ]
  },
  {
   "cell_type": "code",
   "execution_count": 75,
   "id": "88c2afdb",
   "metadata": {},
   "outputs": [
    {
     "data": {
      "text/plain": [
       "0    56147\n",
       "1    19732\n",
       "Name: LS_75, dtype: int64"
      ]
     },
     "execution_count": 75,
     "metadata": {},
     "output_type": "execute_result"
    }
   ],
   "source": [
    "data[\"LS_75\"].value_counts()"
   ]
  },
  {
   "cell_type": "code",
   "execution_count": 77,
   "id": "e68ce639",
   "metadata": {},
   "outputs": [],
   "source": [
    "#Drop if Intactness=Unknown or missing\n",
    "data=data.drop(data[data[\"Intactness\"]==\"Unknown\"].index)\n",
    "data=data.dropna(subset=[\"Intactness\"])\n",
    "#Recode binary variables to 0,1\n",
    "codes=[0,1]\n",
    "sex=[\"Male\",\"Female\"]\n",
    "snip=[\"Intact\",\"Altered\"]\n",
    "mix=[\"Pure\",\"Mix\"]\n",
    "restrict=[\"No\",\"Yes\"]\n",
    "prior=[\"No\",\"Yes\"]\n",
    "\n",
    "data[\"snstatus\"]=data[\"Intactness\"].replace(snip, codes)\n",
    "data[\"sex\"]=data[\"Sex\"].replace(sex,codes)\n",
    "data[\"mix\"]=data[\"Breed_Type\"].replace(mix, codes)\n",
    "data[\"restrict\"]=data[\"Restricted\"].replace(restrict, codes)\n",
    "data[\"prior\"]=data[\"Multiple_Intakes\"].replace(prior, codes)\n",
    "#Drop source columns\n",
    "data=data.drop(columns=[\"Intactness\", \"Sex\", \"Breed_Type\",\"Restricted\",\"Multiple_Intakes\"])\n",
    "\n"
   ]
  },
  {
   "cell_type": "code",
   "execution_count": 78,
   "id": "f99f99d1",
   "metadata": {},
   "outputs": [
    {
     "data": {
      "text/plain": [
       "Counter({'norm': 68316,\n",
       "         'inj': 3321,\n",
       "         'aged': 386,\n",
       "         'sick': 1872,\n",
       "         'med': 110,\n",
       "         'other': 133,\n",
       "         'preg': 64,\n",
       "         'nurs': 1097,\n",
       "         'feral': 10,\n",
       "         'behav': 39,\n",
       "         'neonatal': 44})"
      ]
     },
     "execution_count": 78,
     "metadata": {},
     "output_type": "execute_result"
    }
   ],
   "source": [
    "#group medical Cond\n",
    "newcond=[\"med\", \"med\", \"med\",\"norm\",\"inj\",\"aged\",\"sick\",\"other\",\"preg\",\"nurs\",\"feral\",\"behav\",\"neonatal\"]\n",
    "cond=[\"Medical\", \"Med Urgent\", \"Med Attn\", \"Normal\",\"Injured\",\"Aged\",\"Sick\",\"Other\",\"Pregnant\",\"Nursing\",\"Feral\",\"Behavior\",\"Neonatal\"]\n",
    "data[\"cond\"]=data[\"Cond\"].replace(cond, newcond)\n",
    "Counter(data[\"cond\"])"
   ]
  },
  {
   "cell_type": "code",
   "execution_count": 79,
   "id": "495faff4",
   "metadata": {},
   "outputs": [
    {
     "data": {
      "text/plain": [
       "Counter({'assist': 6495,\n",
       "         'stray': 52006,\n",
       "         'surr': 16440,\n",
       "         'Ereq': 176,\n",
       "         'aband': 274,\n",
       "         'Wildlife': 1})"
      ]
     },
     "execution_count": 79,
     "metadata": {},
     "output_type": "execute_result"
    }
   ],
   "source": [
    "newtypes=[\"assist\", \"stray\", \"surr\", \"Ereq\", \"aband\"]\n",
    "types=[\"Public Assist\",\"Stray\", \"Owner Surrender\", \"Euthanasia Request\", \"Abandoned\"]\n",
    "data[\"type\"]=data[\"Type\"].replace(types, newtypes)\n",
    "data=data.drop(columns=[\"Type\"])\n",
    "Counter(data[\"type\"])"
   ]
  },
  {
   "cell_type": "code",
   "execution_count": 80,
   "id": "0f989762",
   "metadata": {},
   "outputs": [
    {
     "data": {
      "text/plain": [
       "0    55698\n",
       "1    19694\n",
       "Name: LS_75, dtype: int64"
      ]
     },
     "execution_count": 80,
     "metadata": {},
     "output_type": "execute_result"
    }
   ],
   "source": [
    "data[\"LS_75\"].value_counts()\n"
   ]
  },
  {
   "cell_type": "code",
   "execution_count": 86,
   "id": "578c2c53",
   "metadata": {},
   "outputs": [
    {
     "data": {
      "text/plain": [
       "0    54138\n",
       "1    21254\n",
       "Name: outcome, dtype: int64"
      ]
     },
     "execution_count": 86,
     "metadata": {},
     "output_type": "execute_result"
    }
   ],
   "source": [
    "data[\"poor\"]=np.where((data[\"Outcome\"]==\"Euthanasia\")|(data[\"Outcome\"]==\"Died\"),1,0)\n",
    "data[\"outcome\"]=np.where((data[\"poor\"]==1)|(data[\"LS_75\"])==1,1,0)\n",
    "data[\"outcome\"].value_counts()\n",
    "\n",
    "                         \n",
    "#coded_data[\"sporting\"]=np.where((coded_data[\"group1_sporting\"]==1)|(coded_data[\"group2_sporting\"]==1), 1, 0) \n"
   ]
  },
  {
   "cell_type": "code",
   "execution_count": 87,
   "id": "8cd43d53",
   "metadata": {},
   "outputs": [
    {
     "data": {
      "text/html": [
       "<div>\n",
       "<style scoped>\n",
       "    .dataframe tbody tr th:only-of-type {\n",
       "        vertical-align: middle;\n",
       "    }\n",
       "\n",
       "    .dataframe tbody tr th {\n",
       "        vertical-align: top;\n",
       "    }\n",
       "\n",
       "    .dataframe thead th {\n",
       "        text-align: right;\n",
       "    }\n",
       "</style>\n",
       "<table border=\"1\" class=\"dataframe\">\n",
       "  <thead>\n",
       "    <tr style=\"text-align: right;\">\n",
       "      <th></th>\n",
       "      <th>type_Ereq</th>\n",
       "      <th>type_Wildlife</th>\n",
       "      <th>type_aband</th>\n",
       "      <th>type_assist</th>\n",
       "      <th>type_stray</th>\n",
       "      <th>type_surr</th>\n",
       "      <th>cond_aged</th>\n",
       "      <th>cond_behav</th>\n",
       "      <th>cond_feral</th>\n",
       "      <th>cond_inj</th>\n",
       "      <th>...</th>\n",
       "      <th>Sorted_Color_Red/White</th>\n",
       "      <th>Sorted_Color_Sable</th>\n",
       "      <th>Sorted_Color_Tan</th>\n",
       "      <th>Sorted_Color_Tricolor</th>\n",
       "      <th>Sorted_Color_White</th>\n",
       "      <th>mix</th>\n",
       "      <th>sex</th>\n",
       "      <th>snstatus</th>\n",
       "      <th>restrict</th>\n",
       "      <th>prior</th>\n",
       "    </tr>\n",
       "  </thead>\n",
       "  <tbody>\n",
       "    <tr>\n",
       "      <th>0</th>\n",
       "      <td>0</td>\n",
       "      <td>0</td>\n",
       "      <td>0</td>\n",
       "      <td>1</td>\n",
       "      <td>0</td>\n",
       "      <td>0</td>\n",
       "      <td>0</td>\n",
       "      <td>0</td>\n",
       "      <td>0</td>\n",
       "      <td>0</td>\n",
       "      <td>...</td>\n",
       "      <td>0</td>\n",
       "      <td>0</td>\n",
       "      <td>1</td>\n",
       "      <td>0</td>\n",
       "      <td>0</td>\n",
       "      <td>1</td>\n",
       "      <td>0</td>\n",
       "      <td>1</td>\n",
       "      <td>0</td>\n",
       "      <td>0</td>\n",
       "    </tr>\n",
       "    <tr>\n",
       "      <th>1</th>\n",
       "      <td>0</td>\n",
       "      <td>0</td>\n",
       "      <td>0</td>\n",
       "      <td>1</td>\n",
       "      <td>0</td>\n",
       "      <td>0</td>\n",
       "      <td>0</td>\n",
       "      <td>0</td>\n",
       "      <td>0</td>\n",
       "      <td>0</td>\n",
       "      <td>...</td>\n",
       "      <td>0</td>\n",
       "      <td>0</td>\n",
       "      <td>1</td>\n",
       "      <td>0</td>\n",
       "      <td>0</td>\n",
       "      <td>1</td>\n",
       "      <td>0</td>\n",
       "      <td>1</td>\n",
       "      <td>0</td>\n",
       "      <td>1</td>\n",
       "    </tr>\n",
       "    <tr>\n",
       "      <th>2</th>\n",
       "      <td>0</td>\n",
       "      <td>0</td>\n",
       "      <td>0</td>\n",
       "      <td>0</td>\n",
       "      <td>1</td>\n",
       "      <td>0</td>\n",
       "      <td>0</td>\n",
       "      <td>0</td>\n",
       "      <td>0</td>\n",
       "      <td>0</td>\n",
       "      <td>...</td>\n",
       "      <td>0</td>\n",
       "      <td>0</td>\n",
       "      <td>1</td>\n",
       "      <td>0</td>\n",
       "      <td>0</td>\n",
       "      <td>1</td>\n",
       "      <td>0</td>\n",
       "      <td>1</td>\n",
       "      <td>0</td>\n",
       "      <td>1</td>\n",
       "    </tr>\n",
       "    <tr>\n",
       "      <th>3</th>\n",
       "      <td>0</td>\n",
       "      <td>0</td>\n",
       "      <td>0</td>\n",
       "      <td>0</td>\n",
       "      <td>0</td>\n",
       "      <td>1</td>\n",
       "      <td>0</td>\n",
       "      <td>0</td>\n",
       "      <td>0</td>\n",
       "      <td>0</td>\n",
       "      <td>...</td>\n",
       "      <td>0</td>\n",
       "      <td>0</td>\n",
       "      <td>0</td>\n",
       "      <td>1</td>\n",
       "      <td>0</td>\n",
       "      <td>0</td>\n",
       "      <td>0</td>\n",
       "      <td>1</td>\n",
       "      <td>0</td>\n",
       "      <td>0</td>\n",
       "    </tr>\n",
       "    <tr>\n",
       "      <th>4</th>\n",
       "      <td>0</td>\n",
       "      <td>0</td>\n",
       "      <td>0</td>\n",
       "      <td>1</td>\n",
       "      <td>0</td>\n",
       "      <td>0</td>\n",
       "      <td>0</td>\n",
       "      <td>0</td>\n",
       "      <td>0</td>\n",
       "      <td>1</td>\n",
       "      <td>...</td>\n",
       "      <td>0</td>\n",
       "      <td>0</td>\n",
       "      <td>0</td>\n",
       "      <td>0</td>\n",
       "      <td>0</td>\n",
       "      <td>0</td>\n",
       "      <td>0</td>\n",
       "      <td>1</td>\n",
       "      <td>0</td>\n",
       "      <td>0</td>\n",
       "    </tr>\n",
       "  </tbody>\n",
       "</table>\n",
       "<p>5 rows × 82 columns</p>\n",
       "</div>"
      ],
      "text/plain": [
       "   type_Ereq  type_Wildlife  type_aband  type_assist  type_stray  type_surr  \\\n",
       "0          0              0           0            1           0          0   \n",
       "1          0              0           0            1           0          0   \n",
       "2          0              0           0            0           1          0   \n",
       "3          0              0           0            0           0          1   \n",
       "4          0              0           0            1           0          0   \n",
       "\n",
       "   cond_aged  cond_behav  cond_feral  cond_inj  ...  Sorted_Color_Red/White  \\\n",
       "0          0           0           0         0  ...                       0   \n",
       "1          0           0           0         0  ...                       0   \n",
       "2          0           0           0         0  ...                       0   \n",
       "3          0           0           0         0  ...                       0   \n",
       "4          0           0           0         1  ...                       0   \n",
       "\n",
       "   Sorted_Color_Sable  Sorted_Color_Tan  Sorted_Color_Tricolor  \\\n",
       "0                   0                 1                      0   \n",
       "1                   0                 1                      0   \n",
       "2                   0                 1                      0   \n",
       "3                   0                 0                      1   \n",
       "4                   0                 0                      0   \n",
       "\n",
       "   Sorted_Color_White  mix  sex  snstatus  restrict  prior  \n",
       "0                   0    1    0         1         0      0  \n",
       "1                   0    1    0         1         0      1  \n",
       "2                   0    1    0         1         0      1  \n",
       "3                   0    0    0         1         0      0  \n",
       "4                   0    0    0         1         0      0  \n",
       "\n",
       "[5 rows x 82 columns]"
      ]
     },
     "execution_count": 87,
     "metadata": {},
     "output_type": "execute_result"
    }
   ],
   "source": [
    "dummies=[\"type\", \"cond\", \"Age\", \"m\", \"group1\", \"group2\", \"Size1\", \"Size2\",\"Sorted_Color\"]\n",
    "coded_data=pd.get_dummies(data[dummies])\n",
    "coded_data[\"mix\"]=data[\"mix\"]\n",
    "coded_data[\"sex\"]=data[\"sex\"]\n",
    "coded_data[\"snstatus\"]=data[\"snstatus\"]\n",
    "coded_data[\"restrict\"]=data[\"restrict\"]\n",
    "coded_data[\"prior\"]=data[\"prior\"]\n",
    "\n",
    "coded_data.head()"
   ]
  },
  {
   "cell_type": "code",
   "execution_count": 88,
   "id": "f76c972f",
   "metadata": {},
   "outputs": [],
   "source": [
    "coded_data=coded_data.drop(columns=[\"type_Wildlife\"])"
   ]
  },
  {
   "cell_type": "code",
   "execution_count": 89,
   "id": "46549216",
   "metadata": {},
   "outputs": [
    {
     "data": {
      "text/plain": [
       "Index(['type_Ereq', 'type_aband', 'type_assist', 'type_stray', 'type_surr',\n",
       "       'cond_aged', 'cond_behav', 'cond_feral', 'cond_inj', 'cond_med',\n",
       "       'cond_neonatal', 'cond_norm', 'cond_nurs', 'cond_other', 'cond_preg',\n",
       "       'cond_sick', 'Age_Adult', 'Age_Puppy', 'Age_Senior', 'Age_Young',\n",
       "       'm_Apr', 'm_Aug', 'm_Dec', 'm_Feb', 'm_Jan', 'm_July', 'm_June',\n",
       "       'm_Mar', 'm_May', 'm_Nov', 'm_Oct', 'm_Sep', 'group1_cur',\n",
       "       'group1_herding', 'group1_hound', 'group1_misc', 'group1_non-sporting',\n",
       "       'group1_non-working', 'group1_pit bull', 'group1_sporting',\n",
       "       'group1_terrier', 'group1_toy', 'group1_working', 'group2_cur',\n",
       "       'group2_herding', 'group2_hound', 'group2_misc', 'group2_non-sporting',\n",
       "       'group2_pit bull', 'group2_sporting', 'group2_terrier', 'group2_toy',\n",
       "       'group2_working', 'Size1_large', 'Size1_medium', 'Size1_small',\n",
       "       'Size2_large', 'Size2_medium', 'Size2_small', 'Sorted_Color_Black',\n",
       "       'Sorted_Color_Black/Brown', 'Sorted_Color_Black/Tan',\n",
       "       'Sorted_Color_Black/White', 'Sorted_Color_Brindle',\n",
       "       'Sorted_Color_Brown', 'Sorted_Color_Brown/Tan',\n",
       "       'Sorted_Color_Brown/White', 'Sorted_Color_Gray',\n",
       "       'Sorted_Color_Gray/White', 'Sorted_Color_Merle', 'Sorted_Color_Red',\n",
       "       'Sorted_Color_Red/White', 'Sorted_Color_Sable', 'Sorted_Color_Tan',\n",
       "       'Sorted_Color_Tricolor', 'Sorted_Color_White', 'mix', 'sex', 'snstatus',\n",
       "       'restrict', 'prior'],\n",
       "      dtype='object')"
      ]
     },
     "execution_count": 89,
     "metadata": {},
     "output_type": "execute_result"
    }
   ],
   "source": [
    "coded_data.columns"
   ]
  },
  {
   "cell_type": "code",
   "execution_count": 90,
   "id": "d255b60c",
   "metadata": {},
   "outputs": [
    {
     "data": {
      "text/html": [
       "<div>\n",
       "<style scoped>\n",
       "    .dataframe tbody tr th:only-of-type {\n",
       "        vertical-align: middle;\n",
       "    }\n",
       "\n",
       "    .dataframe tbody tr th {\n",
       "        vertical-align: top;\n",
       "    }\n",
       "\n",
       "    .dataframe thead th {\n",
       "        text-align: right;\n",
       "    }\n",
       "</style>\n",
       "<table border=\"1\" class=\"dataframe\">\n",
       "  <thead>\n",
       "    <tr style=\"text-align: right;\">\n",
       "      <th></th>\n",
       "      <th>type_Ereq</th>\n",
       "      <th>type_aband</th>\n",
       "      <th>type_assist</th>\n",
       "      <th>type_stray</th>\n",
       "      <th>type_surr</th>\n",
       "      <th>cond_aged</th>\n",
       "      <th>cond_behav</th>\n",
       "      <th>cond_feral</th>\n",
       "      <th>cond_inj</th>\n",
       "      <th>cond_med</th>\n",
       "      <th>...</th>\n",
       "      <th>working</th>\n",
       "      <th>non-sporting</th>\n",
       "      <th>hound</th>\n",
       "      <th>herding</th>\n",
       "      <th>toy</th>\n",
       "      <th>terrier</th>\n",
       "      <th>pit bull</th>\n",
       "      <th>cur</th>\n",
       "      <th>non-working</th>\n",
       "      <th>g_misc</th>\n",
       "    </tr>\n",
       "  </thead>\n",
       "  <tbody>\n",
       "    <tr>\n",
       "      <th>0</th>\n",
       "      <td>0</td>\n",
       "      <td>0</td>\n",
       "      <td>1</td>\n",
       "      <td>0</td>\n",
       "      <td>0</td>\n",
       "      <td>0</td>\n",
       "      <td>0</td>\n",
       "      <td>0</td>\n",
       "      <td>0</td>\n",
       "      <td>0</td>\n",
       "      <td>...</td>\n",
       "      <td>0</td>\n",
       "      <td>0</td>\n",
       "      <td>0</td>\n",
       "      <td>0</td>\n",
       "      <td>0</td>\n",
       "      <td>0</td>\n",
       "      <td>0</td>\n",
       "      <td>0</td>\n",
       "      <td>0</td>\n",
       "      <td>0</td>\n",
       "    </tr>\n",
       "    <tr>\n",
       "      <th>1</th>\n",
       "      <td>0</td>\n",
       "      <td>0</td>\n",
       "      <td>1</td>\n",
       "      <td>0</td>\n",
       "      <td>0</td>\n",
       "      <td>0</td>\n",
       "      <td>0</td>\n",
       "      <td>0</td>\n",
       "      <td>0</td>\n",
       "      <td>0</td>\n",
       "      <td>...</td>\n",
       "      <td>0</td>\n",
       "      <td>0</td>\n",
       "      <td>0</td>\n",
       "      <td>0</td>\n",
       "      <td>0</td>\n",
       "      <td>0</td>\n",
       "      <td>0</td>\n",
       "      <td>0</td>\n",
       "      <td>0</td>\n",
       "      <td>0</td>\n",
       "    </tr>\n",
       "    <tr>\n",
       "      <th>2</th>\n",
       "      <td>0</td>\n",
       "      <td>0</td>\n",
       "      <td>0</td>\n",
       "      <td>1</td>\n",
       "      <td>0</td>\n",
       "      <td>0</td>\n",
       "      <td>0</td>\n",
       "      <td>0</td>\n",
       "      <td>0</td>\n",
       "      <td>0</td>\n",
       "      <td>...</td>\n",
       "      <td>0</td>\n",
       "      <td>0</td>\n",
       "      <td>0</td>\n",
       "      <td>0</td>\n",
       "      <td>0</td>\n",
       "      <td>0</td>\n",
       "      <td>0</td>\n",
       "      <td>0</td>\n",
       "      <td>0</td>\n",
       "      <td>0</td>\n",
       "    </tr>\n",
       "    <tr>\n",
       "      <th>3</th>\n",
       "      <td>0</td>\n",
       "      <td>0</td>\n",
       "      <td>0</td>\n",
       "      <td>0</td>\n",
       "      <td>1</td>\n",
       "      <td>0</td>\n",
       "      <td>0</td>\n",
       "      <td>0</td>\n",
       "      <td>0</td>\n",
       "      <td>0</td>\n",
       "      <td>...</td>\n",
       "      <td>0</td>\n",
       "      <td>0</td>\n",
       "      <td>1</td>\n",
       "      <td>0</td>\n",
       "      <td>0</td>\n",
       "      <td>0</td>\n",
       "      <td>0</td>\n",
       "      <td>0</td>\n",
       "      <td>0</td>\n",
       "      <td>0</td>\n",
       "    </tr>\n",
       "    <tr>\n",
       "      <th>4</th>\n",
       "      <td>0</td>\n",
       "      <td>0</td>\n",
       "      <td>1</td>\n",
       "      <td>0</td>\n",
       "      <td>0</td>\n",
       "      <td>0</td>\n",
       "      <td>0</td>\n",
       "      <td>0</td>\n",
       "      <td>1</td>\n",
       "      <td>0</td>\n",
       "      <td>...</td>\n",
       "      <td>0</td>\n",
       "      <td>0</td>\n",
       "      <td>0</td>\n",
       "      <td>1</td>\n",
       "      <td>0</td>\n",
       "      <td>0</td>\n",
       "      <td>0</td>\n",
       "      <td>0</td>\n",
       "      <td>0</td>\n",
       "      <td>0</td>\n",
       "    </tr>\n",
       "  </tbody>\n",
       "</table>\n",
       "<p>5 rows × 71 columns</p>\n",
       "</div>"
      ],
      "text/plain": [
       "   type_Ereq  type_aband  type_assist  type_stray  type_surr  cond_aged  \\\n",
       "0          0           0            1           0          0          0   \n",
       "1          0           0            1           0          0          0   \n",
       "2          0           0            0           1          0          0   \n",
       "3          0           0            0           0          1          0   \n",
       "4          0           0            1           0          0          0   \n",
       "\n",
       "   cond_behav  cond_feral  cond_inj  cond_med  ...  working  non-sporting  \\\n",
       "0           0           0         0         0  ...        0             0   \n",
       "1           0           0         0         0  ...        0             0   \n",
       "2           0           0         0         0  ...        0             0   \n",
       "3           0           0         0         0  ...        0             0   \n",
       "4           0           0         1         0  ...        0             0   \n",
       "\n",
       "   hound  herding  toy  terrier  pit bull  cur  non-working  g_misc  \n",
       "0      0        0    0        0         0    0            0       0  \n",
       "1      0        0    0        0         0    0            0       0  \n",
       "2      0        0    0        0         0    0            0       0  \n",
       "3      1        0    0        0         0    0            0       0  \n",
       "4      0        1    0        0         0    0            0       0  \n",
       "\n",
       "[5 rows x 71 columns]"
      ]
     },
     "execution_count": 90,
     "metadata": {},
     "output_type": "execute_result"
    }
   ],
   "source": [
    "#combine group1 and group2. Single variable, 1 if either group1 or group2.\n",
    "coded_data[\"sporting\"]=np.where((coded_data[\"group1_sporting\"]==1)|(coded_data[\"group2_sporting\"]==1), 1, 0) \n",
    "coded_data[\"working\"]=np.where((coded_data[\"group1_working\"]==1)|(coded_data[\"group2_working\"]==1), 1, 0) \n",
    "coded_data[\"non-sporting\"]=np.where((coded_data[\"group1_non-sporting\"]==1)|(coded_data[\"group2_non-sporting\"]==1), 1, 0) \n",
    "coded_data[\"hound\"]=np.where((coded_data[\"group1_hound\"]==1)|(coded_data[\"group2_hound\"]==1), 1, 0) \n",
    "coded_data[\"herding\"]=np.where((coded_data[\"group1_herding\"]==1)|(coded_data[\"group2_herding\"]==1), 1, 0) \n",
    "coded_data[\"toy\"]=np.where((coded_data[\"group1_toy\"]==1)|(coded_data[\"group2_toy\"]==1), 1, 0) \n",
    "coded_data[\"terrier\"]=np.where((coded_data[\"group1_terrier\"]==1)|(coded_data[\"group2_terrier\"]==1), 1, 0) \n",
    "coded_data[\"pit bull\"]=np.where((coded_data[\"group1_pit bull\"]==1)|(coded_data[\"group2_pit bull\"]==1), 1, 0) \n",
    "coded_data[\"cur\"]=np.where((coded_data[\"group1_cur\"]==1)|(coded_data[\"group2_cur\"]==1), 1, 0) \n",
    "coded_data[\"non-working\"]=np.where((coded_data[\"group1_non-working\"]==1), 1, 0) \n",
    "coded_data[\"g_misc\"]=np.where((coded_data[\"group1_misc\"]==1)|(coded_data[\"group2_misc\"]==1), 1, 0) \n",
    "\n",
    "\n",
    "#Drop all the unnecessary columns\n",
    "coded_data=coded_data.drop(columns=[\"group1_sporting\",\"group2_sporting\",\"group1_working\",\"group2_working\",\n",
    "                        \"group1_non-sporting\",\"group2_non-sporting\",\"group1_hound\",\"group2_hound\",\n",
    "                        \"group1_herding\",\"group2_herding\",\"group1_toy\",\"group2_toy\",\"group1_terrier\",\n",
    "                        \"group2_terrier\",\"group1_pit bull\",\"group2_pit bull\",\"group1_cur\",\"group2_cur\",\n",
    "                        \"group1_non-working\",\"group1_misc\",\"group2_misc\"])\n",
    "\n",
    "coded_data.head()"
   ]
  },
  {
   "cell_type": "code",
   "execution_count": 91,
   "id": "df17f37c",
   "metadata": {},
   "outputs": [
    {
     "data": {
      "text/plain": [
       "Index(['type_Ereq', 'type_aband', 'type_assist', 'type_stray', 'type_surr',\n",
       "       'cond_aged', 'cond_behav', 'cond_feral', 'cond_inj', 'cond_med',\n",
       "       'cond_neonatal', 'cond_norm', 'cond_nurs', 'cond_other', 'cond_preg',\n",
       "       'cond_sick', 'Age_Adult', 'Age_Puppy', 'Age_Senior', 'Age_Young',\n",
       "       'm_Apr', 'm_Aug', 'm_Dec', 'm_Feb', 'm_Jan', 'm_July', 'm_June',\n",
       "       'm_Mar', 'm_May', 'm_Nov', 'm_Oct', 'm_Sep', 'Sorted_Color_Black',\n",
       "       'Sorted_Color_Black/Brown', 'Sorted_Color_Black/Tan',\n",
       "       'Sorted_Color_Black/White', 'Sorted_Color_Brindle',\n",
       "       'Sorted_Color_Brown', 'Sorted_Color_Brown/Tan',\n",
       "       'Sorted_Color_Brown/White', 'Sorted_Color_Gray',\n",
       "       'Sorted_Color_Gray/White', 'Sorted_Color_Merle', 'Sorted_Color_Red',\n",
       "       'Sorted_Color_Red/White', 'Sorted_Color_Sable', 'Sorted_Color_Tan',\n",
       "       'Sorted_Color_Tricolor', 'Sorted_Color_White', 'mix', 'sex', 'snstatus',\n",
       "       'restrict', 'prior', 'sporting', 'working', 'non-sporting', 'hound',\n",
       "       'herding', 'toy', 'terrier', 'pit bull', 'cur', 'non-working', 'g_misc',\n",
       "       'small', 'med', 'large'],\n",
       "      dtype='object')"
      ]
     },
     "execution_count": 91,
     "metadata": {},
     "output_type": "execute_result"
    }
   ],
   "source": [
    "#combine group1 and group2. Single variable, 1 if either group1 or group2.\n",
    "coded_data[\"small\"]=np.where((coded_data[\"Size1_small\"]==1)|(coded_data[\"Size2_small\"]==1), 1, 0) \n",
    "coded_data[\"med\"]=np.where((coded_data[\"Size1_medium\"]==1)|(coded_data[\"Size2_medium\"]==1), 1, 0) \n",
    "coded_data[\"large\"]=np.where((coded_data[\"Size1_large\"]==1)|(coded_data[\"Size2_large\"]==1), 1, 0) \n",
    "\n",
    "#Drop all the unnecessary columns\n",
    "coded_data=coded_data.drop(columns=[\"Size1_small\",\"Size2_small\",\"Size1_medium\",\"Size2_medium\",\"Size1_large\",\"Size2_large\"])\n",
    "\n",
    "coded_data.columns"
   ]
  },
  {
   "cell_type": "code",
   "execution_count": 24,
   "id": "1723e404",
   "metadata": {},
   "outputs": [
    {
     "data": {
      "text/plain": [
       "Index(['Return to Owner', 'Transfer', 'Adoption', 'Euthanasia', 'Died'], dtype='object')"
      ]
     },
     "execution_count": 24,
     "metadata": {},
     "output_type": "execute_result"
    }
   ],
   "source": [
    "#Factorize outcome\n",
    "#factor=pd.factorize(data[\"Outcome\"])\n",
    "#data[\"outcome\"]=factor[0]\n",
    "#outcome_definitions=factor[1]\n",
    "#outcome_definitions"
   ]
  },
  {
   "cell_type": "code",
   "execution_count": 92,
   "id": "a6cfa870",
   "metadata": {},
   "outputs": [],
   "source": [
    "#Define coded_data as feature set\n",
    "X=coded_data.copy()\n",
    "y=data[\"outcome\"]\n"
   ]
  },
  {
   "cell_type": "code",
   "execution_count": 93,
   "id": "40f3d2b6",
   "metadata": {},
   "outputs": [
    {
     "data": {
      "text/plain": [
       "Counter({0: 54138, 1: 21254})"
      ]
     },
     "execution_count": 93,
     "metadata": {},
     "output_type": "execute_result"
    }
   ],
   "source": [
    "Counter(y)"
   ]
  },
  {
   "cell_type": "code",
   "execution_count": 94,
   "id": "feb4cc5e",
   "metadata": {},
   "outputs": [],
   "source": [
    "#Split into training and testing sets\n",
    "X_train, X_test, y_train, y_test=train_test_split(X,y,random_state=20)"
   ]
  },
  {
   "cell_type": "code",
   "execution_count": 95,
   "id": "d16e3cce",
   "metadata": {},
   "outputs": [
    {
     "name": "stdout",
     "output_type": "stream",
     "text": [
      "(56544, 68)\n",
      "(18848, 68)\n",
      "(56544,)\n",
      "(18848,)\n"
     ]
    }
   ],
   "source": [
    "#Check numbers for train v test\n",
    "print(X_train.shape)\n",
    "print(X_test.shape)\n",
    "print(y_train.shape)\n",
    "print(y_test.shape)"
   ]
  },
  {
   "cell_type": "code",
   "execution_count": 96,
   "id": "2101f994",
   "metadata": {},
   "outputs": [
    {
     "data": {
      "text/html": [
       "<div>\n",
       "<style scoped>\n",
       "    .dataframe tbody tr th:only-of-type {\n",
       "        vertical-align: middle;\n",
       "    }\n",
       "\n",
       "    .dataframe tbody tr th {\n",
       "        vertical-align: top;\n",
       "    }\n",
       "\n",
       "    .dataframe thead th {\n",
       "        text-align: right;\n",
       "    }\n",
       "</style>\n",
       "<table border=\"1\" class=\"dataframe\">\n",
       "  <thead>\n",
       "    <tr style=\"text-align: right;\">\n",
       "      <th></th>\n",
       "      <th>Predicted 0</th>\n",
       "      <th>Predicted 1</th>\n",
       "    </tr>\n",
       "  </thead>\n",
       "  <tbody>\n",
       "    <tr>\n",
       "      <th>Actual 0</th>\n",
       "      <td>11732</td>\n",
       "      <td>1756</td>\n",
       "    </tr>\n",
       "    <tr>\n",
       "      <th>Actual 1</th>\n",
       "      <td>3461</td>\n",
       "      <td>1899</td>\n",
       "    </tr>\n",
       "  </tbody>\n",
       "</table>\n",
       "</div>"
      ],
      "text/plain": [
       "          Predicted 0  Predicted 1\n",
       "Actual 0        11732         1756\n",
       "Actual 1         3461         1899"
      ]
     },
     "execution_count": 96,
     "metadata": {},
     "output_type": "execute_result"
    }
   ],
   "source": [
    "from sklearn.ensemble import RandomForestClassifier\n",
    "rf_model=RandomForestClassifier(n_estimators=100, random_state=78)\n",
    "#Fit classifier to training set\n",
    "rf_model= rf_model.fit(X_train, y_train)\n",
    "#Make prediction\n",
    "predictions = rf_model.predict(X_test)\n",
    "#Evaluate model\n",
    "cm=confusion_matrix(y_test, predictions)\n",
    "cm_df = pd.DataFrame(cm, index = [\"Actual 0\", \"Actual 1\"], \n",
    "                      columns=[\"Predicted 0\", \"Predicted 1\"])\n",
    "cm_df\n"
   ]
  },
  {
   "cell_type": "code",
   "execution_count": 97,
   "id": "284909d2",
   "metadata": {},
   "outputs": [
    {
     "name": "stdout",
     "output_type": "stream",
     "text": [
      "0.9192310413129599\n",
      "0.7232067062818336\n",
      "              precision    recall  f1-score   support\n",
      "\n",
      "           0       0.77      0.87      0.82     13488\n",
      "           1       0.52      0.35      0.42      5360\n",
      "\n",
      "    accuracy                           0.72     18848\n",
      "   macro avg       0.65      0.61      0.62     18848\n",
      "weighted avg       0.70      0.72      0.71     18848\n",
      "\n"
     ]
    }
   ],
   "source": [
    "print(rf_model.score(X_train,y_train))\n",
    "print(rf_model.score(X_test, y_test))\n",
    "print(classification_report(y_test, predictions))"
   ]
  },
  {
   "cell_type": "code",
   "execution_count": 100,
   "id": "4c8504ee",
   "metadata": {},
   "outputs": [],
   "source": [
    "importances = rf_model.feature_importances_\n"
   ]
  },
  {
   "cell_type": "code",
   "execution_count": 101,
   "id": "579bebc1",
   "metadata": {},
   "outputs": [
    {
     "data": {
      "text/plain": [
       "[Index(['type_Ereq', 'type_aband', 'type_assist', 'type_stray', 'type_surr',\n",
       "        'cond_aged', 'cond_behav', 'cond_feral', 'cond_inj', 'cond_med',\n",
       "        'cond_neonatal', 'cond_norm', 'cond_nurs', 'cond_other', 'cond_preg',\n",
       "        'cond_sick', 'Age_Adult', 'Age_Puppy', 'Age_Senior', 'Age_Young',\n",
       "        'm_Apr', 'm_Aug', 'm_Dec', 'm_Feb', 'm_Jan', 'm_July', 'm_June',\n",
       "        'm_Mar', 'm_May', 'm_Nov', 'm_Oct', 'm_Sep', 'mix', 'sex', 'snstatus',\n",
       "        'restrict', 'prior', 'sporting', 'working', 'non-sporting', 'hound',\n",
       "        'herding', 'toy', 'terrier', 'pit bull', 'cur', 'non-working', 'g_misc',\n",
       "        'small', 'med', 'large'],\n",
       "       dtype='object')]"
      ]
     },
     "execution_count": 101,
     "metadata": {},
     "output_type": "execute_result"
    }
   ],
   "source": [
    "feature_names=[coded_data.columns]\n",
    "feature_names"
   ]
  },
  {
   "cell_type": "code",
   "execution_count": 103,
   "id": "970b2d32",
   "metadata": {},
   "outputs": [],
   "source": [
    "std = np.std([tree.feature_importances_ for tree in rf_model.estimators_], axis=0)"
   ]
  },
  {
   "cell_type": "code",
   "execution_count": 106,
   "id": "af7e968c",
   "metadata": {},
   "outputs": [
    {
     "name": "stderr",
     "output_type": "stream",
     "text": [
      "/Users/annawiste/opt/anaconda3/envs/mlenv/lib/python3.7/site-packages/ipykernel_launcher.py:9: UserWarning: Matplotlib is currently using module://matplotlib_inline.backend_inline, which is a non-GUI backend, so cannot show the figure.\n",
      "  if __name__ == '__main__':\n"
     ]
    },
    {
     "data": {
      "image/png": "[encoded data removed]",
      "text/plain": [
       "<Figure size 432x288 with 1 Axes>"
      ]
     },
     "metadata": {
      "needs_background": "light"
     },
     "output_type": "display_data"
    }
   ],
   "source": [
    "forest_importances = pd.Series(importances, index=feature_names)\n",
    "import matplotlib.pyplot as plt\n",
    "\n",
    "fig, ax = plt.subplots()\n",
    "forest_importances.plot.bar(yerr=std, ax=ax)\n",
    "ax.set_title(\"Feature importances using MDI\")\n",
    "ax.set_ylabel(\"Mean decrease in impurity\")\n",
    "\n",
    "fig.show()\n"
   ]
  },
  {
   "cell_type": "code",
   "execution_count": 98,
   "id": "786db0d6",
   "metadata": {},
   "outputs": [
    {
     "name": "stdout",
     "output_type": "stream",
     "text": [
      "Learning rate:  0.05\n",
      "Accuracy score (training): 0.745\n",
      "Accuracy score (validation): 0.740\n",
      "\n",
      "Learning rate:  0.1\n",
      "Accuracy score (training): 0.749\n",
      "Accuracy score (validation): 0.743\n",
      "\n",
      "Learning rate:  0.25\n",
      "Accuracy score (training): 0.754\n",
      "Accuracy score (validation): 0.745\n",
      "\n",
      "Learning rate:  0.5\n",
      "Accuracy score (training): 0.759\n",
      "Accuracy score (validation): 0.745\n",
      "\n",
      "Learning rate:  0.75\n",
      "Accuracy score (training): 0.760\n",
      "Accuracy score (validation): 0.744\n",
      "\n",
      "Learning rate:  1\n",
      "Accuracy score (training): 0.761\n",
      "Accuracy score (validation): 0.743\n",
      "\n"
     ]
    }
   ],
   "source": [
    "from sklearn.ensemble import GradientBoostingClassifier\n",
    "\n",
    "# Create a classifier object\n",
    "learning_rates = [0.05, 0.1, 0.25, 0.5, 0.75, 1]\n",
    "for learning_rate in learning_rates:\n",
    "    classifier = GradientBoostingClassifier(n_estimators=100,\n",
    "                                            learning_rate=learning_rate,\n",
    "                                            max_features=10,\n",
    "                                            max_depth=4,\n",
    "                                            random_state=0)\n",
    "\n",
    "    # Fit the model\n",
    "    classifier.fit(X_train, y_train)\n",
    "    print(\"Learning rate: \", learning_rate)\n",
    "\n",
    "    # Score the model\n",
    "    print(\"Accuracy score (training): {0:.3f}\".format(\n",
    "        classifier.score(\n",
    "            X_train,\n",
    "            y_train)))\n",
    "    print(\"Accuracy score (validation): {0:.3f}\".format(\n",
    "        classifier.score(\n",
    "            X_test,\n",
    "            y_test)))\n",
    "    print()"
   ]
  },
  {
   "cell_type": "code",
   "execution_count": 99,
   "id": "26abfdbf",
   "metadata": {},
   "outputs": [],
   "source": [
    "# Choose a learning rate and create classifier\n",
    "classifier = GradientBoostingClassifier(n_estimators=100,\n",
    "                                        learning_rate=0.3,\n",
    "                                        max_features=10,\n",
    "                                        max_depth=4,\n",
    "                                        random_state=0)\n",
    "\n",
    "# Fit the model\n",
    "classifier.fit(X_train, y_train)\n",
    "\n",
    "# Make Prediction\n",
    "predictions = classifier.predict(X_test)"
   ]
  },
  {
   "cell_type": "code",
   "execution_count": 100,
   "id": "b5a11ab0",
   "metadata": {},
   "outputs": [
    {
     "name": "stdout",
     "output_type": "stream",
     "text": [
      "Accuracy score (training): 0.756\n",
      "Accuracy score (validation): 0.745\n",
      "              precision    recall  f1-score   support\n",
      "\n",
      "           0       0.76      0.93      0.84     13488\n",
      "           1       0.62      0.27      0.37      5360\n",
      "\n",
      "    accuracy                           0.74     18848\n",
      "   macro avg       0.69      0.60      0.61     18848\n",
      "weighted avg       0.72      0.74      0.71     18848\n",
      "\n"
     ]
    }
   ],
   "source": [
    "# Score the model\n",
    "print(\"Accuracy score (training): {0:.3f}\".format(\n",
    "    classifier.score(X_train,y_train)))\n",
    "print(\"Accuracy score (validation): {0:.3f}\".format(\n",
    "    classifier.score(X_test,y_test)))\n",
    "print(classification_report(y_test, predictions))"
   ]
  },
  {
   "cell_type": "code",
   "execution_count": 102,
   "id": "49846d9d",
   "metadata": {},
   "outputs": [
    {
     "data": {
      "text/html": [
       "<div>\n",
       "<style scoped>\n",
       "    .dataframe tbody tr th:only-of-type {\n",
       "        vertical-align: middle;\n",
       "    }\n",
       "\n",
       "    .dataframe tbody tr th {\n",
       "        vertical-align: top;\n",
       "    }\n",
       "\n",
       "    .dataframe thead th {\n",
       "        text-align: right;\n",
       "    }\n",
       "</style>\n",
       "<table border=\"1\" class=\"dataframe\">\n",
       "  <thead>\n",
       "    <tr style=\"text-align: right;\">\n",
       "      <th></th>\n",
       "      <th>Predicted 0</th>\n",
       "      <th>Predicted 1</th>\n",
       "    </tr>\n",
       "  </thead>\n",
       "  <tbody>\n",
       "    <tr>\n",
       "      <th>Actual 0</th>\n",
       "      <td>12594</td>\n",
       "      <td>894</td>\n",
       "    </tr>\n",
       "    <tr>\n",
       "      <th>Actual 1</th>\n",
       "      <td>3919</td>\n",
       "      <td>1441</td>\n",
       "    </tr>\n",
       "  </tbody>\n",
       "</table>\n",
       "</div>"
      ],
      "text/plain": [
       "          Predicted 0  Predicted 1\n",
       "Actual 0        12594          894\n",
       "Actual 1         3919         1441"
      ]
     },
     "execution_count": 102,
     "metadata": {},
     "output_type": "execute_result"
    }
   ],
   "source": [
    "cm1=confusion_matrix(y_test, predictions)\n",
    "cm1_df = pd.DataFrame(cm1, index = [\"Actual 0\", \"Actual 1\"], \n",
    "                      columns=[\"Predicted 0\", \"Predicted 1\"])\n",
    "cm1_df"
   ]
  },
  {
   "cell_type": "code",
   "execution_count": 95,
   "id": "3b909141",
   "metadata": {},
   "outputs": [
    {
     "data": {
      "text/plain": [
       "Adoption           9085\n",
       "Return to Owner    5016\n",
       "Transfer           4048\n",
       "Euthanasia          481\n",
       "Died                 53\n",
       "Name: Outcome, dtype: int64"
      ]
     },
     "execution_count": 95,
     "metadata": {},
     "output_type": "execute_result"
    }
   ],
   "source": [
    "y_test.value_counts()"
   ]
  },
  {
   "cell_type": "code",
   "execution_count": 107,
   "id": "95cc8d1b",
   "metadata": {},
   "outputs": [],
   "source": [
    "#check for good number of components\n",
    "#components=[5,10,15,20]\n",
    "#for component in components:\n",
    "#    pca=PCA(n_components=components)\n",
    "#    X_pca=pca.fit_transform(X)\n",
    "#    print(pca.explained_variance_ratio_.sum())\n",
    "    "
   ]
  },
  {
   "cell_type": "code",
   "execution_count": 116,
   "id": "40a01f11",
   "metadata": {},
   "outputs": [],
   "source": [
    "#Initialize PCA\n",
    "pca=PCA(n_components=20)"
   ]
  },
  {
   "cell_type": "code",
   "execution_count": 46,
   "id": "078b0f4a",
   "metadata": {},
   "outputs": [],
   "source": [
    "#pca=PCA(n_components=16)"
   ]
  },
  {
   "cell_type": "code",
   "execution_count": 117,
   "id": "3ad939cd",
   "metadata": {},
   "outputs": [],
   "source": [
    "#Apply to X\n",
    "X_pca=pca.fit_transform(X)"
   ]
  },
  {
   "cell_type": "code",
   "execution_count": 118,
   "id": "467f1e65",
   "metadata": {},
   "outputs": [
    {
     "data": {
      "text/plain": [
       "array([0.11354398, 0.08549861, 0.07845401, 0.05907583, 0.0431889 ,\n",
       "       0.03777943, 0.03264141, 0.02800741, 0.02728296, 0.0239452 ,\n",
       "       0.02287856, 0.02179275, 0.02027596, 0.01990543, 0.01911411,\n",
       "       0.01795387, 0.01669897, 0.01618091, 0.01577117, 0.01553397])"
      ]
     },
     "execution_count": 118,
     "metadata": {},
     "output_type": "execute_result"
    }
   ],
   "source": [
    "pca.explained_variance_ratio_"
   ]
  },
  {
   "cell_type": "code",
   "execution_count": 119,
   "id": "3ecf185f",
   "metadata": {},
   "outputs": [
    {
     "data": {
      "text/plain": [
       "0.7155234384318053"
      ]
     },
     "execution_count": 119,
     "metadata": {},
     "output_type": "execute_result"
    }
   ],
   "source": [
    "pca.explained_variance_ratio_.sum()"
   ]
  },
  {
   "cell_type": "code",
   "execution_count": 120,
   "id": "0d4b1c48",
   "metadata": {},
   "outputs": [
    {
     "data": {
      "text/html": [
       "<div>\n",
       "<style scoped>\n",
       "    .dataframe tbody tr th:only-of-type {\n",
       "        vertical-align: middle;\n",
       "    }\n",
       "\n",
       "    .dataframe tbody tr th {\n",
       "        vertical-align: top;\n",
       "    }\n",
       "\n",
       "    .dataframe thead th {\n",
       "        text-align: right;\n",
       "    }\n",
       "</style>\n",
       "<table border=\"1\" class=\"dataframe\">\n",
       "  <thead>\n",
       "    <tr style=\"text-align: right;\">\n",
       "      <th></th>\n",
       "      <th>PC1</th>\n",
       "      <th>PC2</th>\n",
       "      <th>PC3</th>\n",
       "      <th>PC4</th>\n",
       "      <th>PC5</th>\n",
       "      <th>PC6</th>\n",
       "      <th>PC7</th>\n",
       "      <th>PC8</th>\n",
       "      <th>PC9</th>\n",
       "      <th>PC10</th>\n",
       "      <th>PC11</th>\n",
       "      <th>PC12</th>\n",
       "      <th>PC13</th>\n",
       "      <th>PC14</th>\n",
       "      <th>PC15</th>\n",
       "      <th>PC16</th>\n",
       "      <th>PC17</th>\n",
       "      <th>PC18</th>\n",
       "      <th>PC19</th>\n",
       "      <th>PC20</th>\n",
       "    </tr>\n",
       "  </thead>\n",
       "  <tbody>\n",
       "    <tr>\n",
       "      <th>0</th>\n",
       "      <td>0.271103</td>\n",
       "      <td>0.485910</td>\n",
       "      <td>0.811047</td>\n",
       "      <td>-0.024704</td>\n",
       "      <td>-0.516450</td>\n",
       "      <td>-0.622967</td>\n",
       "      <td>-0.588601</td>\n",
       "      <td>0.630313</td>\n",
       "      <td>0.741646</td>\n",
       "      <td>-0.766255</td>\n",
       "      <td>-0.199413</td>\n",
       "      <td>0.035135</td>\n",
       "      <td>0.259106</td>\n",
       "      <td>-0.655106</td>\n",
       "      <td>0.406780</td>\n",
       "      <td>0.585649</td>\n",
       "      <td>0.375719</td>\n",
       "      <td>-0.177815</td>\n",
       "      <td>0.135260</td>\n",
       "      <td>0.652799</td>\n",
       "    </tr>\n",
       "    <tr>\n",
       "      <th>1</th>\n",
       "      <td>0.346465</td>\n",
       "      <td>0.603172</td>\n",
       "      <td>1.051774</td>\n",
       "      <td>0.050429</td>\n",
       "      <td>-0.550851</td>\n",
       "      <td>-0.770268</td>\n",
       "      <td>-0.621487</td>\n",
       "      <td>0.259112</td>\n",
       "      <td>0.696889</td>\n",
       "      <td>-0.523991</td>\n",
       "      <td>-0.236331</td>\n",
       "      <td>-0.023280</td>\n",
       "      <td>0.197221</td>\n",
       "      <td>-0.733328</td>\n",
       "      <td>0.210105</td>\n",
       "      <td>0.280130</td>\n",
       "      <td>0.734731</td>\n",
       "      <td>-0.195649</td>\n",
       "      <td>0.063419</td>\n",
       "      <td>0.735007</td>\n",
       "    </tr>\n",
       "    <tr>\n",
       "      <th>2</th>\n",
       "      <td>0.241861</td>\n",
       "      <td>0.256545</td>\n",
       "      <td>0.488487</td>\n",
       "      <td>-0.381559</td>\n",
       "      <td>-0.483894</td>\n",
       "      <td>-0.920326</td>\n",
       "      <td>-0.613023</td>\n",
       "      <td>-0.562871</td>\n",
       "      <td>0.650616</td>\n",
       "      <td>0.133342</td>\n",
       "      <td>-0.457681</td>\n",
       "      <td>0.598328</td>\n",
       "      <td>-0.183545</td>\n",
       "      <td>-0.266321</td>\n",
       "      <td>-0.031068</td>\n",
       "      <td>0.611607</td>\n",
       "      <td>-0.182721</td>\n",
       "      <td>-0.336683</td>\n",
       "      <td>-0.101938</td>\n",
       "      <td>0.541426</td>\n",
       "    </tr>\n",
       "    <tr>\n",
       "      <th>3</th>\n",
       "      <td>-0.754141</td>\n",
       "      <td>0.978184</td>\n",
       "      <td>0.764153</td>\n",
       "      <td>0.510999</td>\n",
       "      <td>-0.450384</td>\n",
       "      <td>-0.009241</td>\n",
       "      <td>0.327556</td>\n",
       "      <td>0.305699</td>\n",
       "      <td>-0.124994</td>\n",
       "      <td>0.666956</td>\n",
       "      <td>0.196081</td>\n",
       "      <td>0.466012</td>\n",
       "      <td>0.596452</td>\n",
       "      <td>0.244387</td>\n",
       "      <td>-0.118678</td>\n",
       "      <td>1.080513</td>\n",
       "      <td>-0.493654</td>\n",
       "      <td>0.083751</td>\n",
       "      <td>-0.392241</td>\n",
       "      <td>-0.314926</td>\n",
       "    </tr>\n",
       "    <tr>\n",
       "      <th>4</th>\n",
       "      <td>-0.531269</td>\n",
       "      <td>0.796232</td>\n",
       "      <td>0.471942</td>\n",
       "      <td>0.045386</td>\n",
       "      <td>-0.439548</td>\n",
       "      <td>-0.196220</td>\n",
       "      <td>0.837077</td>\n",
       "      <td>0.736288</td>\n",
       "      <td>0.009500</td>\n",
       "      <td>0.516660</td>\n",
       "      <td>0.041905</td>\n",
       "      <td>1.357731</td>\n",
       "      <td>0.577157</td>\n",
       "      <td>0.458001</td>\n",
       "      <td>0.940912</td>\n",
       "      <td>-0.160542</td>\n",
       "      <td>-0.023217</td>\n",
       "      <td>0.300332</td>\n",
       "      <td>-0.597427</td>\n",
       "      <td>0.630812</td>\n",
       "    </tr>\n",
       "  </tbody>\n",
       "</table>\n",
       "</div>"
      ],
      "text/plain": [
       "        PC1       PC2       PC3       PC4       PC5       PC6       PC7  \\\n",
       "0  0.271103  0.485910  0.811047 -0.024704 -0.516450 -0.622967 -0.588601   \n",
       "1  0.346465  0.603172  1.051774  0.050429 -0.550851 -0.770268 -0.621487   \n",
       "2  0.241861  0.256545  0.488487 -0.381559 -0.483894 -0.920326 -0.613023   \n",
       "3 -0.754141  0.978184  0.764153  0.510999 -0.450384 -0.009241  0.327556   \n",
       "4 -0.531269  0.796232  0.471942  0.045386 -0.439548 -0.196220  0.837077   \n",
       "\n",
       "        PC8       PC9      PC10      PC11      PC12      PC13      PC14  \\\n",
       "0  0.630313  0.741646 -0.766255 -0.199413  0.035135  0.259106 -0.655106   \n",
       "1  0.259112  0.696889 -0.523991 -0.236331 -0.023280  0.197221 -0.733328   \n",
       "2 -0.562871  0.650616  0.133342 -0.457681  0.598328 -0.183545 -0.266321   \n",
       "3  0.305699 -0.124994  0.666956  0.196081  0.466012  0.596452  0.244387   \n",
       "4  0.736288  0.009500  0.516660  0.041905  1.357731  0.577157  0.458001   \n",
       "\n",
       "       PC15      PC16      PC17      PC18      PC19      PC20  \n",
       "0  0.406780  0.585649  0.375719 -0.177815  0.135260  0.652799  \n",
       "1  0.210105  0.280130  0.734731 -0.195649  0.063419  0.735007  \n",
       "2 -0.031068  0.611607 -0.182721 -0.336683 -0.101938  0.541426  \n",
       "3 -0.118678  1.080513 -0.493654  0.083751 -0.392241 -0.314926  \n",
       "4  0.940912 -0.160542 -0.023217  0.300332 -0.597427  0.630812  "
      ]
     },
     "execution_count": 120,
     "metadata": {},
     "output_type": "execute_result"
    }
   ],
   "source": [
    "#Create dataframe from pcas\n",
    "X_pca_df=pd.DataFrame(data=X_pca, columns=[\"PC1\",\"PC2\",\"PC3\",\"PC4\",\"PC5\",\"PC6\",\"PC7\",\"PC8\",\"PC9\",\n",
    "                     \"PC10\",\"PC11\",\"PC12\",\"PC13\",\"PC14\",\"PC15\",\"PC16\",\"PC17\",\"PC18\",\"PC19\",\"PC20\"])\n",
    "X_pca_df.head()"
   ]
  },
  {
   "cell_type": "code",
   "execution_count": 121,
   "id": "25ab8445",
   "metadata": {},
   "outputs": [],
   "source": [
    "#Split into training and testing sets\n",
    "X_train, X_test, y_train, y_test=train_test_split(X_pca_df,y,random_state=20)"
   ]
  },
  {
   "cell_type": "code",
   "execution_count": 123,
   "id": "04d70b2b",
   "metadata": {},
   "outputs": [
    {
     "data": {
      "text/html": [
       "<div>\n",
       "<style scoped>\n",
       "    .dataframe tbody tr th:only-of-type {\n",
       "        vertical-align: middle;\n",
       "    }\n",
       "\n",
       "    .dataframe tbody tr th {\n",
       "        vertical-align: top;\n",
       "    }\n",
       "\n",
       "    .dataframe thead th {\n",
       "        text-align: right;\n",
       "    }\n",
       "</style>\n",
       "<table border=\"1\" class=\"dataframe\">\n",
       "  <thead>\n",
       "    <tr style=\"text-align: right;\">\n",
       "      <th></th>\n",
       "      <th>Predicted 0</th>\n",
       "      <th>Predicted 1</th>\n",
       "    </tr>\n",
       "  </thead>\n",
       "  <tbody>\n",
       "    <tr>\n",
       "      <th>Actual 0</th>\n",
       "      <td>11683</td>\n",
       "      <td>1805</td>\n",
       "    </tr>\n",
       "    <tr>\n",
       "      <th>Actual 1</th>\n",
       "      <td>3561</td>\n",
       "      <td>1799</td>\n",
       "    </tr>\n",
       "  </tbody>\n",
       "</table>\n",
       "</div>"
      ],
      "text/plain": [
       "          Predicted 0  Predicted 1\n",
       "Actual 0        11683         1805\n",
       "Actual 1         3561         1799"
      ]
     },
     "execution_count": 123,
     "metadata": {},
     "output_type": "execute_result"
    }
   ],
   "source": [
    "from sklearn.ensemble import RandomForestClassifier\n",
    "rf_model=RandomForestClassifier(n_estimators=100, random_state=78)\n",
    "#Fit classifier to training set\n",
    "rf_model= rf_model.fit(X_train, y_train)\n",
    "#Make prediction\n",
    "predictions2 = rf_model.predict(X_test)\n",
    "#Evaluate model\n",
    "cm2=confusion_matrix(y_test, predictions2)\n",
    "cm2_df = pd.DataFrame(cm2, index = [\"Actual 0\", \"Actual 1\"], \n",
    "                      columns=[\"Predicted 0\", \"Predicted 1\"])\n",
    "cm2_df"
   ]
  },
  {
   "cell_type": "code",
   "execution_count": 124,
   "id": "256e4a36",
   "metadata": {},
   "outputs": [
    {
     "name": "stdout",
     "output_type": "stream",
     "text": [
      "Accuracy score (training): 0.919\n",
      "Accuracy score (validation): 0.715\n"
     ]
    }
   ],
   "source": [
    "# Score the model\n",
    "print(\"Accuracy score (training): {0:.3f}\".format(\n",
    "    rf_model.score(X_train,y_train)))\n",
    "print(\"Accuracy score (validation): {0:.3f}\".format(\n",
    "    rf_model.score(X_test,y_test)))"
   ]
  },
  {
   "cell_type": "code",
   "execution_count": 116,
   "id": "529e74f7",
   "metadata": {},
   "outputs": [],
   "source": [
    "# Choose a learning rate and create classifier\n",
    "classifier = GradientBoostingClassifier(n_estimators=100,\n",
    "                                        learning_rate=0.2,\n",
    "                                        max_features=10,\n",
    "                                        max_depth=4,\n",
    "                                        random_state=0)\n",
    "\n",
    "# Fit the model\n",
    "classifier.fit(X_train, y_train)\n",
    "\n",
    "# Make Prediction\n",
    "predictions = classifier.predict(X_test)"
   ]
  },
  {
   "cell_type": "code",
   "execution_count": 120,
   "id": "7b00262b",
   "metadata": {},
   "outputs": [
    {
     "name": "stdout",
     "output_type": "stream",
     "text": [
      "Accuracy score (training): 0.641\n",
      "Accuracy score (validation): 0.604\n",
      "                 precision    recall  f1-score   support\n",
      "\n",
      "       Adoption       0.61      0.83      0.70      9085\n",
      "           Died       0.05      0.06      0.06        53\n",
      "     Euthanasia       0.26      0.06      0.10       481\n",
      "Return to Owner       0.62      0.65      0.64      5016\n",
      "       Transfer       0.49      0.11      0.18      4048\n",
      "\n",
      "       accuracy                           0.60     18683\n",
      "      macro avg       0.41      0.34      0.34     18683\n",
      "   weighted avg       0.58      0.60      0.56     18683\n",
      "\n"
     ]
    }
   ],
   "source": [
    "# Score the model\n",
    "print(\"Accuracy score (training): {0:.3f}\".format(\n",
    "    classifier.score(X_train,y_train)))\n",
    "print(\"Accuracy score (validation): {0:.3f}\".format(\n",
    "    classifier.score(X_test,y_test)))\n",
    "print(classification_report(y_test, predictions))"
   ]
  },
  {
   "cell_type": "code",
   "execution_count": 119,
   "id": "115ec444",
   "metadata": {},
   "outputs": [
    {
     "data": {
      "text/html": [
       "<div>\n",
       "<style scoped>\n",
       "    .dataframe tbody tr th:only-of-type {\n",
       "        vertical-align: middle;\n",
       "    }\n",
       "\n",
       "    .dataframe tbody tr th {\n",
       "        vertical-align: top;\n",
       "    }\n",
       "\n",
       "    .dataframe thead th {\n",
       "        text-align: right;\n",
       "    }\n",
       "</style>\n",
       "<table border=\"1\" class=\"dataframe\">\n",
       "  <thead>\n",
       "    <tr style=\"text-align: right;\">\n",
       "      <th></th>\n",
       "      <th>Predicted 0</th>\n",
       "      <th>Predicted 1</th>\n",
       "      <th>Predicted 2</th>\n",
       "      <th>Predicted 3</th>\n",
       "      <th>Predicted 4</th>\n",
       "    </tr>\n",
       "  </thead>\n",
       "  <tbody>\n",
       "    <tr>\n",
       "      <th>Actual 0</th>\n",
       "      <td>7517</td>\n",
       "      <td>16</td>\n",
       "      <td>29</td>\n",
       "      <td>1229</td>\n",
       "      <td>294</td>\n",
       "    </tr>\n",
       "    <tr>\n",
       "      <th>Actual 1</th>\n",
       "      <td>35</td>\n",
       "      <td>3</td>\n",
       "      <td>2</td>\n",
       "      <td>5</td>\n",
       "      <td>8</td>\n",
       "    </tr>\n",
       "    <tr>\n",
       "      <th>Actual 2</th>\n",
       "      <td>239</td>\n",
       "      <td>3</td>\n",
       "      <td>31</td>\n",
       "      <td>126</td>\n",
       "      <td>82</td>\n",
       "    </tr>\n",
       "    <tr>\n",
       "      <th>Actual 3</th>\n",
       "      <td>1610</td>\n",
       "      <td>17</td>\n",
       "      <td>17</td>\n",
       "      <td>3276</td>\n",
       "      <td>96</td>\n",
       "    </tr>\n",
       "    <tr>\n",
       "      <th>Actual 4</th>\n",
       "      <td>2866</td>\n",
       "      <td>16</td>\n",
       "      <td>40</td>\n",
       "      <td>666</td>\n",
       "      <td>460</td>\n",
       "    </tr>\n",
       "  </tbody>\n",
       "</table>\n",
       "</div>"
      ],
      "text/plain": [
       "          Predicted 0  Predicted 1  Predicted 2  Predicted 3  Predicted 4\n",
       "Actual 0         7517           16           29         1229          294\n",
       "Actual 1           35            3            2            5            8\n",
       "Actual 2          239            3           31          126           82\n",
       "Actual 3         1610           17           17         3276           96\n",
       "Actual 4         2866           16           40          666          460"
      ]
     },
     "execution_count": 119,
     "metadata": {},
     "output_type": "execute_result"
    }
   ],
   "source": [
    "cm=confusion_matrix(y_test, predictions)\n",
    "cm_df = pd.DataFrame(cm, index = [\"Actual 0\", \"Actual 1\",\"Actual 2\",\"Actual 3\",\"Actual 4\"], \n",
    "                      columns=[\"Predicted 0\", \"Predicted 1\",\"Predicted 2\",\"Predicted 3\", \"Predicted 4\"])\n",
    "cm_df"
   ]
  },
  {
   "cell_type": "code",
   "execution_count": null,
   "id": "7c66b15f",
   "metadata": {},
   "outputs": [],
   "source": []
  },
  {
   "cell_type": "markdown",
   "id": "52af4fc2",
   "metadata": {},
   "source": [
    "# Test with lumping adopt and transfer"
   ]
  },
  {
   "cell_type": "code",
   "execution_count": null,
   "id": "bd1356b4",
   "metadata": {},
   "outputs": [],
   "source": []
  },
  {
   "cell_type": "code",
   "execution_count": 121,
   "id": "f3211051",
   "metadata": {},
   "outputs": [],
   "source": [
    "old=['Return to Owner', 'Transfer', 'Adoption', 'Euthanasia', 'Died']\n",
    "new=['rto','adopted','adopted','euth','died']\n",
    "data[\"newOut\"]=data[\"Outcome\"].replace(old,new)"
   ]
  },
  {
   "cell_type": "code",
   "execution_count": 64,
   "id": "1b36b7fb",
   "metadata": {},
   "outputs": [
    {
     "data": {
      "text/plain": [
       "Index(['rto', 'adopted', 'euth', 'died'], dtype='object')"
      ]
     },
     "execution_count": 64,
     "metadata": {},
     "output_type": "execute_result"
    }
   ],
   "source": [
    "#Factorize outcome\n",
    "#factor=pd.factorize(data[\"newOut\"])\n",
    "#data[\"outcome\"]=factor[0]\n",
    "#outcome_definitions=factor[1]\n",
    "#outcome_definitions"
   ]
  },
  {
   "cell_type": "code",
   "execution_count": 122,
   "id": "fe5ae3a5",
   "metadata": {},
   "outputs": [
    {
     "data": {
      "text/plain": [
       "Counter({'rto': 20079, 'adopted': 52582, 'euth': 1807, 'died': 263})"
      ]
     },
     "execution_count": 122,
     "metadata": {},
     "output_type": "execute_result"
    }
   ],
   "source": [
    "\n",
    "y=data[\"newOut\"]\n",
    "Counter(y)"
   ]
  },
  {
   "cell_type": "code",
   "execution_count": 123,
   "id": "c758996f",
   "metadata": {},
   "outputs": [],
   "source": [
    "#Split into training and testing sets\n",
    "X_train, X_test, y_train, y_test=train_test_split(X_pca_df,y,random_state=20)"
   ]
  },
  {
   "cell_type": "code",
   "execution_count": 124,
   "id": "84350830",
   "metadata": {},
   "outputs": [
    {
     "data": {
      "text/html": [
       "<div>\n",
       "<style scoped>\n",
       "    .dataframe tbody tr th:only-of-type {\n",
       "        vertical-align: middle;\n",
       "    }\n",
       "\n",
       "    .dataframe tbody tr th {\n",
       "        vertical-align: top;\n",
       "    }\n",
       "\n",
       "    .dataframe thead th {\n",
       "        text-align: right;\n",
       "    }\n",
       "</style>\n",
       "<table border=\"1\" class=\"dataframe\">\n",
       "  <thead>\n",
       "    <tr style=\"text-align: right;\">\n",
       "      <th></th>\n",
       "      <th>Predicted 0</th>\n",
       "      <th>Predicted 1</th>\n",
       "      <th>Predicted 2</th>\n",
       "      <th>Predicted 3</th>\n",
       "    </tr>\n",
       "  </thead>\n",
       "  <tbody>\n",
       "    <tr>\n",
       "      <th>Actual 0</th>\n",
       "      <td>11560</td>\n",
       "      <td>8</td>\n",
       "      <td>66</td>\n",
       "      <td>1499</td>\n",
       "    </tr>\n",
       "    <tr>\n",
       "      <th>Actual 1</th>\n",
       "      <td>44</td>\n",
       "      <td>2</td>\n",
       "      <td>1</td>\n",
       "      <td>6</td>\n",
       "    </tr>\n",
       "    <tr>\n",
       "      <th>Actual 2</th>\n",
       "      <td>333</td>\n",
       "      <td>4</td>\n",
       "      <td>32</td>\n",
       "      <td>112</td>\n",
       "    </tr>\n",
       "    <tr>\n",
       "      <th>Actual 3</th>\n",
       "      <td>2316</td>\n",
       "      <td>2</td>\n",
       "      <td>33</td>\n",
       "      <td>2665</td>\n",
       "    </tr>\n",
       "  </tbody>\n",
       "</table>\n",
       "</div>"
      ],
      "text/plain": [
       "          Predicted 0  Predicted 1  Predicted 2  Predicted 3\n",
       "Actual 0        11560            8           66         1499\n",
       "Actual 1           44            2            1            6\n",
       "Actual 2          333            4           32          112\n",
       "Actual 3         2316            2           33         2665"
      ]
     },
     "execution_count": 124,
     "metadata": {},
     "output_type": "execute_result"
    }
   ],
   "source": [
    "from sklearn.ensemble import RandomForestClassifier\n",
    "rf_model=RandomForestClassifier(n_estimators=100, random_state=78)\n",
    "#Fit classifier to training set\n",
    "rf_model= rf_model.fit(X_train, y_train)\n",
    "#Make prediction\n",
    "predictions2 = rf_model.predict(X_test)\n",
    "#Evaluate model\n",
    "cm2=confusion_matrix(y_test, predictions2)\n",
    "cm2_df = pd.DataFrame(cm2, index = [\"Actual 0\", \"Actual 1\",\"Actual 2\",\"Actual 3\"], \n",
    "                      columns=[\"Predicted 0\", \"Predicted 1\",\"Predicted 2\",\"Predicted 3\"])\n",
    "cm2_df"
   ]
  },
  {
   "cell_type": "code",
   "execution_count": 125,
   "id": "c8d51f14",
   "metadata": {},
   "outputs": [
    {
     "name": "stdout",
     "output_type": "stream",
     "text": [
      "Accuracy score (training): 0.872\n",
      "Accuracy score (validation): 0.763\n"
     ]
    },
    {
     "name": "stderr",
     "output_type": "stream",
     "text": [
      "/Users/annawiste/opt/anaconda3/envs/mlenv/lib/python3.7/site-packages/sklearn/metrics/_classification.py:1308: UndefinedMetricWarning: Precision and F-score are ill-defined and being set to 0.0 in labels with no predicted samples. Use `zero_division` parameter to control this behavior.\n",
      "  _warn_prf(average, modifier, msg_start, len(result))\n",
      "/Users/annawiste/opt/anaconda3/envs/mlenv/lib/python3.7/site-packages/sklearn/metrics/_classification.py:1308: UndefinedMetricWarning: Recall and F-score are ill-defined and being set to 0.0 in labels with no true samples. Use `zero_division` parameter to control this behavior.\n",
      "  _warn_prf(average, modifier, msg_start, len(result))\n",
      "/Users/annawiste/opt/anaconda3/envs/mlenv/lib/python3.7/site-packages/sklearn/metrics/_classification.py:1308: UndefinedMetricWarning: Precision and F-score are ill-defined and being set to 0.0 in labels with no predicted samples. Use `zero_division` parameter to control this behavior.\n",
      "  _warn_prf(average, modifier, msg_start, len(result))\n",
      "/Users/annawiste/opt/anaconda3/envs/mlenv/lib/python3.7/site-packages/sklearn/metrics/_classification.py:1308: UndefinedMetricWarning: Recall and F-score are ill-defined and being set to 0.0 in labels with no true samples. Use `zero_division` parameter to control this behavior.\n",
      "  _warn_prf(average, modifier, msg_start, len(result))\n"
     ]
    },
    {
     "name": "stdout",
     "output_type": "stream",
     "text": [
      "                 precision    recall  f1-score   support\n",
      "\n",
      "       Adoption       0.00      0.00      0.00       0.0\n",
      "           Died       0.00      0.00      0.00       0.0\n",
      "     Euthanasia       0.00      0.00      0.00       0.0\n",
      "Return to Owner       0.00      0.00      0.00       0.0\n",
      "       Transfer       0.00      0.00      0.00       0.0\n",
      "        adopted       0.00      0.00      0.00   13133.0\n",
      "           died       0.00      0.00      0.00      53.0\n",
      "           euth       0.00      0.00      0.00     481.0\n",
      "            rto       0.00      0.00      0.00    5016.0\n",
      "\n",
      "       accuracy                           0.00   18683.0\n",
      "      macro avg       0.00      0.00      0.00   18683.0\n",
      "   weighted avg       0.00      0.00      0.00   18683.0\n",
      "\n"
     ]
    },
    {
     "name": "stderr",
     "output_type": "stream",
     "text": [
      "/Users/annawiste/opt/anaconda3/envs/mlenv/lib/python3.7/site-packages/sklearn/metrics/_classification.py:1308: UndefinedMetricWarning: Precision and F-score are ill-defined and being set to 0.0 in labels with no predicted samples. Use `zero_division` parameter to control this behavior.\n",
      "  _warn_prf(average, modifier, msg_start, len(result))\n",
      "/Users/annawiste/opt/anaconda3/envs/mlenv/lib/python3.7/site-packages/sklearn/metrics/_classification.py:1308: UndefinedMetricWarning: Recall and F-score are ill-defined and being set to 0.0 in labels with no true samples. Use `zero_division` parameter to control this behavior.\n",
      "  _warn_prf(average, modifier, msg_start, len(result))\n"
     ]
    }
   ],
   "source": [
    "# Score the model\n",
    "print(\"Accuracy score (training): {0:.3f}\".format(\n",
    "    rf_model.score(X_train,y_train)))\n",
    "print(\"Accuracy score (validation): {0:.3f}\".format(\n",
    "    rf_model.score(X_test,y_test)))\n",
    "print(classification_report(y_test, predictions))"
   ]
  },
  {
   "cell_type": "code",
   "execution_count": 69,
   "id": "f3baf8ff",
   "metadata": {},
   "outputs": [
    {
     "data": {
      "text/plain": [
       "Index(['type_Ereq', 'type_aband', 'type_assist', 'type_stray', 'type_surr',\n",
       "       'cond_aged', 'cond_behav', 'cond_feral', 'cond_inj', 'cond_med',\n",
       "       'cond_neonatal', 'cond_norm', 'cond_nurs', 'cond_other', 'cond_preg',\n",
       "       'cond_sick', 'Age_Adult', 'Age_Puppy', 'Age_Senior', 'Age_Young',\n",
       "       'm_Apr', 'm_Aug', 'm_Dec', 'm_Feb', 'm_Jan', 'm_July', 'm_June',\n",
       "       'm_Mar', 'm_May', 'm_Nov', 'm_Oct', 'm_Sep', 'mix', 'sex', 'snstatus',\n",
       "       'restrict', 'prior', 'sporting', 'working', 'non-sporting', 'hound',\n",
       "       'herding', 'toy', 'terrier', 'pit bull', 'cur', 'non-working', 'g_misc',\n",
       "       'small', 'med', 'large'],\n",
       "      dtype='object')"
      ]
     },
     "execution_count": 69,
     "metadata": {},
     "output_type": "execute_result"
    }
   ],
   "source": [
    "coded_data.columns"
   ]
  },
  {
   "cell_type": "code",
   "execution_count": 70,
   "id": "6bcf3ce8",
   "metadata": {},
   "outputs": [
    {
     "data": {
      "text/plain": [
       "adopted    52582\n",
       "rto        20079\n",
       "euth        1807\n",
       "died         263\n",
       "Name: newOut, dtype: int64"
      ]
     },
     "execution_count": 70,
     "metadata": {},
     "output_type": "execute_result"
    }
   ],
   "source": [
    "y.value_counts()"
   ]
  },
  {
   "cell_type": "code",
   "execution_count": 71,
   "id": "a42fd83d",
   "metadata": {},
   "outputs": [
    {
     "data": {
      "text/plain": [
       "1    52582\n",
       "0    20079\n",
       "2     1807\n",
       "3      263\n",
       "Name: outcome, dtype: int64"
      ]
     },
     "execution_count": 71,
     "metadata": {},
     "output_type": "execute_result"
    }
   ],
   "source": [
    "data[\"outcome\"].value_counts()"
   ]
  },
  {
   "cell_type": "code",
   "execution_count": 73,
   "id": "1af7cf80",
   "metadata": {},
   "outputs": [
    {
     "data": {
      "text/html": [
       "<div>\n",
       "<style scoped>\n",
       "    .dataframe tbody tr th:only-of-type {\n",
       "        vertical-align: middle;\n",
       "    }\n",
       "\n",
       "    .dataframe tbody tr th {\n",
       "        vertical-align: top;\n",
       "    }\n",
       "\n",
       "    .dataframe thead th {\n",
       "        text-align: right;\n",
       "    }\n",
       "</style>\n",
       "<table border=\"1\" class=\"dataframe\">\n",
       "  <thead>\n",
       "    <tr style=\"text-align: right;\">\n",
       "      <th></th>\n",
       "      <th>Cond</th>\n",
       "      <th>Age</th>\n",
       "      <th>Outcome</th>\n",
       "      <th>LS</th>\n",
       "      <th>m</th>\n",
       "      <th>y</th>\n",
       "      <th>Breed_update</th>\n",
       "      <th>Breed1</th>\n",
       "      <th>Breed2</th>\n",
       "      <th>group1</th>\n",
       "      <th>...</th>\n",
       "      <th>Sorted_Color</th>\n",
       "      <th>snstatus</th>\n",
       "      <th>sex</th>\n",
       "      <th>mix</th>\n",
       "      <th>restrict</th>\n",
       "      <th>prior</th>\n",
       "      <th>cond</th>\n",
       "      <th>type</th>\n",
       "      <th>outcome</th>\n",
       "      <th>newOut</th>\n",
       "    </tr>\n",
       "  </thead>\n",
       "  <tbody>\n",
       "    <tr>\n",
       "      <th>0</th>\n",
       "      <td>Normal</td>\n",
       "      <td>Adult</td>\n",
       "      <td>Return to Owner</td>\n",
       "      <td>2</td>\n",
       "      <td>Mar</td>\n",
       "      <td>2014</td>\n",
       "      <td>Spinone Italiano</td>\n",
       "      <td>Spinone Italiano</td>\n",
       "      <td>NaN</td>\n",
       "      <td>sporting</td>\n",
       "      <td>...</td>\n",
       "      <td>Tan</td>\n",
       "      <td>1</td>\n",
       "      <td>0</td>\n",
       "      <td>1</td>\n",
       "      <td>0</td>\n",
       "      <td>0</td>\n",
       "      <td>norm</td>\n",
       "      <td>assist</td>\n",
       "      <td>0</td>\n",
       "      <td>rto</td>\n",
       "    </tr>\n",
       "    <tr>\n",
       "      <th>1</th>\n",
       "      <td>Normal</td>\n",
       "      <td>Adult</td>\n",
       "      <td>Return to Owner</td>\n",
       "      <td>2</td>\n",
       "      <td>Dec</td>\n",
       "      <td>2014</td>\n",
       "      <td>Spinone Italiano</td>\n",
       "      <td>Spinone Italiano</td>\n",
       "      <td>NaN</td>\n",
       "      <td>sporting</td>\n",
       "      <td>...</td>\n",
       "      <td>Tan</td>\n",
       "      <td>1</td>\n",
       "      <td>0</td>\n",
       "      <td>1</td>\n",
       "      <td>0</td>\n",
       "      <td>1</td>\n",
       "      <td>norm</td>\n",
       "      <td>assist</td>\n",
       "      <td>0</td>\n",
       "      <td>rto</td>\n",
       "    </tr>\n",
       "    <tr>\n",
       "      <th>2</th>\n",
       "      <td>Normal</td>\n",
       "      <td>Senior</td>\n",
       "      <td>Return to Owner</td>\n",
       "      <td>1</td>\n",
       "      <td>Dec</td>\n",
       "      <td>2017</td>\n",
       "      <td>Spinone Italiano</td>\n",
       "      <td>Spinone Italiano</td>\n",
       "      <td>NaN</td>\n",
       "      <td>sporting</td>\n",
       "      <td>...</td>\n",
       "      <td>Tan</td>\n",
       "      <td>1</td>\n",
       "      <td>0</td>\n",
       "      <td>1</td>\n",
       "      <td>0</td>\n",
       "      <td>1</td>\n",
       "      <td>norm</td>\n",
       "      <td>stray</td>\n",
       "      <td>0</td>\n",
       "      <td>rto</td>\n",
       "    </tr>\n",
       "    <tr>\n",
       "      <th>3</th>\n",
       "      <td>Normal</td>\n",
       "      <td>Senior</td>\n",
       "      <td>Transfer</td>\n",
       "      <td>6</td>\n",
       "      <td>Apr</td>\n",
       "      <td>2014</td>\n",
       "      <td>Dachshund</td>\n",
       "      <td>Dachshund</td>\n",
       "      <td>NaN</td>\n",
       "      <td>hound</td>\n",
       "      <td>...</td>\n",
       "      <td>Tricolor</td>\n",
       "      <td>1</td>\n",
       "      <td>0</td>\n",
       "      <td>0</td>\n",
       "      <td>0</td>\n",
       "      <td>0</td>\n",
       "      <td>norm</td>\n",
       "      <td>surr</td>\n",
       "      <td>1</td>\n",
       "      <td>adopted</td>\n",
       "    </tr>\n",
       "    <tr>\n",
       "      <th>4</th>\n",
       "      <td>Injured</td>\n",
       "      <td>Senior</td>\n",
       "      <td>Return to Owner</td>\n",
       "      <td>1</td>\n",
       "      <td>Nov</td>\n",
       "      <td>2013</td>\n",
       "      <td>Shetland Sheepdog</td>\n",
       "      <td>Shetland Sheepdog</td>\n",
       "      <td>NaN</td>\n",
       "      <td>herding</td>\n",
       "      <td>...</td>\n",
       "      <td>Brown/White</td>\n",
       "      <td>1</td>\n",
       "      <td>0</td>\n",
       "      <td>0</td>\n",
       "      <td>0</td>\n",
       "      <td>0</td>\n",
       "      <td>inj</td>\n",
       "      <td>assist</td>\n",
       "      <td>0</td>\n",
       "      <td>rto</td>\n",
       "    </tr>\n",
       "  </tbody>\n",
       "</table>\n",
       "<p>5 rows × 23 columns</p>\n",
       "</div>"
      ],
      "text/plain": [
       "      Cond     Age          Outcome  LS    m     y       Breed_update  \\\n",
       "0   Normal   Adult  Return to Owner   2  Mar  2014   Spinone Italiano   \n",
       "1   Normal   Adult  Return to Owner   2  Dec  2014   Spinone Italiano   \n",
       "2   Normal  Senior  Return to Owner   1  Dec  2017   Spinone Italiano   \n",
       "3   Normal  Senior         Transfer   6  Apr  2014          Dachshund   \n",
       "4  Injured  Senior  Return to Owner   1  Nov  2013  Shetland Sheepdog   \n",
       "\n",
       "              Breed1 Breed2    group1  ... Sorted_Color snstatus sex mix  \\\n",
       "0   Spinone Italiano    NaN  sporting  ...          Tan        1   0   1   \n",
       "1   Spinone Italiano    NaN  sporting  ...          Tan        1   0   1   \n",
       "2   Spinone Italiano    NaN  sporting  ...          Tan        1   0   1   \n",
       "3          Dachshund    NaN     hound  ...     Tricolor        1   0   0   \n",
       "4  Shetland Sheepdog    NaN   herding  ...  Brown/White        1   0   0   \n",
       "\n",
       "   restrict  prior  cond    type  outcome   newOut  \n",
       "0         0      0  norm  assist        0      rto  \n",
       "1         0      1  norm  assist        0      rto  \n",
       "2         0      1  norm   stray        0      rto  \n",
       "3         0      0  norm    surr        1  adopted  \n",
       "4         0      0   inj  assist        0      rto  \n",
       "\n",
       "[5 rows x 23 columns]"
      ]
     },
     "execution_count": 73,
     "metadata": {},
     "output_type": "execute_result"
    }
   ],
   "source": [
    "data.head()"
   ]
  },
  {
   "cell_type": "code",
   "execution_count": null,
   "id": "ce563ac0",
   "metadata": {},
   "outputs": [],
   "source": [
    "import matplotlib.pyplot as plt\n",
    "\n",
    "fig, ax = plt.subplots()\n",
    "forest_importances.plot.bar(yerr=std, ax=ax)\n",
    "ax.set_title(\"Feature importances using MDI\")\n",
    "ax.set_ylabel(\"Mean decrease in impurity\")\n",
    "\n",
    "fig.show()\n"
   ]
  }
 ],
 "metadata": {
  "kernelspec": {
   "display_name": "mlenv",
   "language": "python",
   "name": "mlenv"
  },
  "language_info": {
   "codemirror_mode": {
    "name": "ipython",
    "version": 3
   },
   "file_extension": ".py",
   "mimetype": "text/x-python",
   "name": "python",
   "nbconvert_exporter": "python",
   "pygments_lexer": "ipython3",
   "version": "3.7.11"
  }
 },
 "nbformat": 4,
 "nbformat_minor": 5
}
