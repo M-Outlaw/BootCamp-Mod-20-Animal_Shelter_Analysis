{
 "cells": [
  {
   "cell_type": "code",
   "execution_count": 1,
   "id": "27843fea",
   "metadata": {},
   "outputs": [],
   "source": [
    "# Import dependencies\n",
    "import pandas as pd\n",
    "import numpy as np\n",
    "import matplotlib.pyplot as plt\n",
    "import seaborn as sns"
   ]
  },
  {
   "cell_type": "code",
   "execution_count": 3,
   "id": "096cf559",
   "metadata": {},
   "outputs": [
    {
     "data": {
      "text/html": [
       "<div>\n",
       "<style scoped>\n",
       "    .dataframe tbody tr th:only-of-type {\n",
       "        vertical-align: middle;\n",
       "    }\n",
       "\n",
       "    .dataframe tbody tr th {\n",
       "        vertical-align: top;\n",
       "    }\n",
       "\n",
       "    .dataframe thead th {\n",
       "        text-align: right;\n",
       "    }\n",
       "</style>\n",
       "<table border=\"1\" class=\"dataframe\">\n",
       "  <thead>\n",
       "    <tr style=\"text-align: right;\">\n",
       "      <th></th>\n",
       "      <th>Unnamed: 0</th>\n",
       "      <th>Animal ID</th>\n",
       "      <th>Intake_Type</th>\n",
       "      <th>Intake_Condition</th>\n",
       "      <th>Breed</th>\n",
       "      <th>Color</th>\n",
       "      <th>Age_in_Years</th>\n",
       "      <th>Intactness</th>\n",
       "      <th>Sex</th>\n",
       "      <th>Age</th>\n",
       "      <th>...</th>\n",
       "      <th>Breed_update</th>\n",
       "      <th>Breed1</th>\n",
       "      <th>Breed2</th>\n",
       "      <th>AKC_group1</th>\n",
       "      <th>Size1</th>\n",
       "      <th>AKC_group2</th>\n",
       "      <th>Size2</th>\n",
       "      <th>Sorted_Color</th>\n",
       "      <th>Restricted</th>\n",
       "      <th>Multiple_Intakes</th>\n",
       "    </tr>\n",
       "  </thead>\n",
       "  <tbody>\n",
       "    <tr>\n",
       "      <th>0</th>\n",
       "      <td>0</td>\n",
       "      <td>A006100</td>\n",
       "      <td>Public Assist</td>\n",
       "      <td>Normal</td>\n",
       "      <td>Spinone Italiano Mix</td>\n",
       "      <td>Yellow/White</td>\n",
       "      <td>6.0</td>\n",
       "      <td>Altered</td>\n",
       "      <td>Male</td>\n",
       "      <td>Adult</td>\n",
       "      <td>...</td>\n",
       "      <td>Spinone Italiano</td>\n",
       "      <td>Spinone Italiano</td>\n",
       "      <td>NaN</td>\n",
       "      <td>sporting</td>\n",
       "      <td>large</td>\n",
       "      <td>NaN</td>\n",
       "      <td>NaN</td>\n",
       "      <td>Tan</td>\n",
       "      <td>No</td>\n",
       "      <td>0</td>\n",
       "    </tr>\n",
       "    <tr>\n",
       "      <th>1</th>\n",
       "      <td>1</td>\n",
       "      <td>A006100</td>\n",
       "      <td>Public Assist</td>\n",
       "      <td>Normal</td>\n",
       "      <td>Spinone Italiano Mix</td>\n",
       "      <td>Yellow/White</td>\n",
       "      <td>7.0</td>\n",
       "      <td>Altered</td>\n",
       "      <td>Male</td>\n",
       "      <td>Adult</td>\n",
       "      <td>...</td>\n",
       "      <td>Spinone Italiano</td>\n",
       "      <td>Spinone Italiano</td>\n",
       "      <td>NaN</td>\n",
       "      <td>sporting</td>\n",
       "      <td>large</td>\n",
       "      <td>NaN</td>\n",
       "      <td>NaN</td>\n",
       "      <td>Tan</td>\n",
       "      <td>No</td>\n",
       "      <td>1</td>\n",
       "    </tr>\n",
       "    <tr>\n",
       "      <th>2</th>\n",
       "      <td>2</td>\n",
       "      <td>A006100</td>\n",
       "      <td>Stray</td>\n",
       "      <td>Normal</td>\n",
       "      <td>Spinone Italiano Mix</td>\n",
       "      <td>Yellow/White</td>\n",
       "      <td>10.0</td>\n",
       "      <td>Altered</td>\n",
       "      <td>Male</td>\n",
       "      <td>Senior</td>\n",
       "      <td>...</td>\n",
       "      <td>Spinone Italiano</td>\n",
       "      <td>Spinone Italiano</td>\n",
       "      <td>NaN</td>\n",
       "      <td>sporting</td>\n",
       "      <td>large</td>\n",
       "      <td>NaN</td>\n",
       "      <td>NaN</td>\n",
       "      <td>Tan</td>\n",
       "      <td>No</td>\n",
       "      <td>1</td>\n",
       "    </tr>\n",
       "    <tr>\n",
       "      <th>3</th>\n",
       "      <td>3</td>\n",
       "      <td>A047759</td>\n",
       "      <td>Owner Surrender</td>\n",
       "      <td>Normal</td>\n",
       "      <td>Dachshund</td>\n",
       "      <td>Tricolor</td>\n",
       "      <td>10.0</td>\n",
       "      <td>Altered</td>\n",
       "      <td>Male</td>\n",
       "      <td>Senior</td>\n",
       "      <td>...</td>\n",
       "      <td>Dachshund</td>\n",
       "      <td>Dachshund</td>\n",
       "      <td>NaN</td>\n",
       "      <td>hound</td>\n",
       "      <td>small</td>\n",
       "      <td>NaN</td>\n",
       "      <td>NaN</td>\n",
       "      <td>Tricolor</td>\n",
       "      <td>No</td>\n",
       "      <td>0</td>\n",
       "    </tr>\n",
       "    <tr>\n",
       "      <th>4</th>\n",
       "      <td>4</td>\n",
       "      <td>A134067</td>\n",
       "      <td>Public Assist</td>\n",
       "      <td>Injured</td>\n",
       "      <td>Shetland Sheepdog</td>\n",
       "      <td>Brown/White</td>\n",
       "      <td>16.0</td>\n",
       "      <td>Altered</td>\n",
       "      <td>Male</td>\n",
       "      <td>Senior</td>\n",
       "      <td>...</td>\n",
       "      <td>Shetland Sheepdog</td>\n",
       "      <td>Shetland Sheepdog</td>\n",
       "      <td>NaN</td>\n",
       "      <td>herding</td>\n",
       "      <td>small</td>\n",
       "      <td>NaN</td>\n",
       "      <td>NaN</td>\n",
       "      <td>Brown/White</td>\n",
       "      <td>No</td>\n",
       "      <td>0</td>\n",
       "    </tr>\n",
       "  </tbody>\n",
       "</table>\n",
       "<p>5 rows × 25 columns</p>\n",
       "</div>"
      ],
      "text/plain": [
       "   Unnamed: 0 Animal ID      Intake_Type Intake_Condition  \\\n",
       "0           0   A006100    Public Assist           Normal   \n",
       "1           1   A006100    Public Assist           Normal   \n",
       "2           2   A006100            Stray           Normal   \n",
       "3           3   A047759  Owner Surrender           Normal   \n",
       "4           4   A134067    Public Assist          Injured   \n",
       "\n",
       "                  Breed         Color  Age_in_Years Intactness   Sex     Age  \\\n",
       "0  Spinone Italiano Mix  Yellow/White           6.0    Altered  Male   Adult   \n",
       "1  Spinone Italiano Mix  Yellow/White           7.0    Altered  Male   Adult   \n",
       "2  Spinone Italiano Mix  Yellow/White          10.0    Altered  Male  Senior   \n",
       "3             Dachshund      Tricolor          10.0    Altered  Male  Senior   \n",
       "4     Shetland Sheepdog   Brown/White          16.0    Altered  Male  Senior   \n",
       "\n",
       "   ...       Breed_update             Breed1  Breed2  AKC_group1  Size1  \\\n",
       "0  ...   Spinone Italiano   Spinone Italiano     NaN    sporting  large   \n",
       "1  ...   Spinone Italiano   Spinone Italiano     NaN    sporting  large   \n",
       "2  ...   Spinone Italiano   Spinone Italiano     NaN    sporting  large   \n",
       "3  ...          Dachshund          Dachshund     NaN       hound  small   \n",
       "4  ...  Shetland Sheepdog  Shetland Sheepdog     NaN     herding  small   \n",
       "\n",
       "  AKC_group2 Size2 Sorted_Color Restricted Multiple_Intakes  \n",
       "0        NaN   NaN          Tan         No                0  \n",
       "1        NaN   NaN          Tan         No                1  \n",
       "2        NaN   NaN          Tan         No                1  \n",
       "3        NaN   NaN     Tricolor         No                0  \n",
       "4        NaN   NaN  Brown/White         No                0  \n",
       "\n",
       "[5 rows x 25 columns]"
      ]
     },
     "execution_count": 3,
     "metadata": {},
     "output_type": "execute_result"
    }
   ],
   "source": [
    "# Read in CSV as DF\n",
    "file_path = \"merged_AKC.csv\"\n",
    "df = pd.read_csv(file_path)\n",
    "df.head()"
   ]
  },
  {
   "cell_type": "code",
   "execution_count": 13,
   "id": "14de797d",
   "metadata": {},
   "outputs": [
    {
     "data": {
      "text/plain": [
       "Index(['Unnamed: 0', 'Animal ID', 'Intake_Type', 'Intake_Condition', 'Breed',\n",
       "       'Color', 'Age_in_Years', 'Intactness', 'Sex', 'Age', 'Breed_Type',\n",
       "       'Outcome_Type', 'Length_of_Stay', 'in_Month', 'in_Year', 'Breed_update',\n",
       "       'Breed1', 'Breed2', 'AKC_group1', 'Size1', 'AKC_group2', 'Size2',\n",
       "       'Sorted_Color', 'Restricted', 'Multiple_Intakes'],\n",
       "      dtype='object')"
      ]
     },
     "execution_count": 13,
     "metadata": {},
     "output_type": "execute_result"
    }
   ],
   "source": [
    "df.columns"
   ]
  },
  {
   "cell_type": "code",
   "execution_count": 18,
   "id": "b26c65fa",
   "metadata": {},
   "outputs": [
    {
     "data": {
      "text/html": [
       "<div>\n",
       "<style scoped>\n",
       "    .dataframe tbody tr th:only-of-type {\n",
       "        vertical-align: middle;\n",
       "    }\n",
       "\n",
       "    .dataframe tbody tr th {\n",
       "        vertical-align: top;\n",
       "    }\n",
       "\n",
       "    .dataframe thead th {\n",
       "        text-align: right;\n",
       "    }\n",
       "</style>\n",
       "<table border=\"1\" class=\"dataframe\">\n",
       "  <thead>\n",
       "    <tr style=\"text-align: right;\">\n",
       "      <th></th>\n",
       "      <th>Unnamed: 0</th>\n",
       "      <th>Age_in_Years</th>\n",
       "      <th>Length_of_Stay</th>\n",
       "      <th>in_Month</th>\n",
       "      <th>in_Year</th>\n",
       "      <th>Multiple_Intakes</th>\n",
       "    </tr>\n",
       "  </thead>\n",
       "  <tbody>\n",
       "    <tr>\n",
       "      <th>count</th>\n",
       "      <td>75982.000000</td>\n",
       "      <td>75982.000000</td>\n",
       "      <td>75982.000000</td>\n",
       "      <td>75982.000000</td>\n",
       "      <td>75982.000000</td>\n",
       "      <td>75982.000000</td>\n",
       "    </tr>\n",
       "    <tr>\n",
       "      <th>mean</th>\n",
       "      <td>37990.500000</td>\n",
       "      <td>2.573910</td>\n",
       "      <td>18.795570</td>\n",
       "      <td>6.607157</td>\n",
       "      <td>2017.003132</td>\n",
       "      <td>0.157235</td>\n",
       "    </tr>\n",
       "    <tr>\n",
       "      <th>std</th>\n",
       "      <td>21934.258414</td>\n",
       "      <td>3.005562</td>\n",
       "      <td>48.262558</td>\n",
       "      <td>3.484998</td>\n",
       "      <td>2.272193</td>\n",
       "      <td>0.364024</td>\n",
       "    </tr>\n",
       "    <tr>\n",
       "      <th>min</th>\n",
       "      <td>0.000000</td>\n",
       "      <td>-3.000000</td>\n",
       "      <td>1.000000</td>\n",
       "      <td>1.000000</td>\n",
       "      <td>2013.000000</td>\n",
       "      <td>0.000000</td>\n",
       "    </tr>\n",
       "    <tr>\n",
       "      <th>25%</th>\n",
       "      <td>18995.250000</td>\n",
       "      <td>0.583333</td>\n",
       "      <td>3.000000</td>\n",
       "      <td>4.000000</td>\n",
       "      <td>2015.000000</td>\n",
       "      <td>0.000000</td>\n",
       "    </tr>\n",
       "    <tr>\n",
       "      <th>50%</th>\n",
       "      <td>37990.500000</td>\n",
       "      <td>2.000000</td>\n",
       "      <td>6.000000</td>\n",
       "      <td>7.000000</td>\n",
       "      <td>2017.000000</td>\n",
       "      <td>0.000000</td>\n",
       "    </tr>\n",
       "    <tr>\n",
       "      <th>75%</th>\n",
       "      <td>56985.750000</td>\n",
       "      <td>3.000000</td>\n",
       "      <td>13.000000</td>\n",
       "      <td>10.000000</td>\n",
       "      <td>2019.000000</td>\n",
       "      <td>0.000000</td>\n",
       "    </tr>\n",
       "    <tr>\n",
       "      <th>max</th>\n",
       "      <td>75981.000000</td>\n",
       "      <td>24.000000</td>\n",
       "      <td>1914.000000</td>\n",
       "      <td>12.000000</td>\n",
       "      <td>2022.000000</td>\n",
       "      <td>1.000000</td>\n",
       "    </tr>\n",
       "  </tbody>\n",
       "</table>\n",
       "</div>"
      ],
      "text/plain": [
       "         Unnamed: 0  Age_in_Years  Length_of_Stay      in_Month       in_Year  \\\n",
       "count  75982.000000  75982.000000    75982.000000  75982.000000  75982.000000   \n",
       "mean   37990.500000      2.573910       18.795570      6.607157   2017.003132   \n",
       "std    21934.258414      3.005562       48.262558      3.484998      2.272193   \n",
       "min        0.000000     -3.000000        1.000000      1.000000   2013.000000   \n",
       "25%    18995.250000      0.583333        3.000000      4.000000   2015.000000   \n",
       "50%    37990.500000      2.000000        6.000000      7.000000   2017.000000   \n",
       "75%    56985.750000      3.000000       13.000000     10.000000   2019.000000   \n",
       "max    75981.000000     24.000000     1914.000000     12.000000   2022.000000   \n",
       "\n",
       "       Multiple_Intakes  \n",
       "count      75982.000000  \n",
       "mean           0.157235  \n",
       "std            0.364024  \n",
       "min            0.000000  \n",
       "25%            0.000000  \n",
       "50%            0.000000  \n",
       "75%            0.000000  \n",
       "max            1.000000  "
      ]
     },
     "execution_count": 18,
     "metadata": {},
     "output_type": "execute_result"
    }
   ],
   "source": [
    "# Stats for numerical columns\n",
    "df.describe()"
   ]
  },
  {
   "cell_type": "code",
   "execution_count": 5,
   "id": "db0dfe37",
   "metadata": {},
   "outputs": [
    {
     "data": {
      "text/plain": [
       "array([[<AxesSubplot:title={'center':'Age_in_Years'}>]], dtype=object)"
      ]
     },
     "execution_count": 5,
     "metadata": {},
     "output_type": "execute_result"
    },
    {
     "data": {
      "image/png": "[encoded data removed]",
      "text/plain": [
       "<Figure size 432x288 with 1 Axes>"
      ]
     },
     "metadata": {
      "needs_background": "light"
     },
     "output_type": "display_data"
    }
   ],
   "source": [
    "df.hist(column='Age_in_Years')"
   ]
  },
  {
   "cell_type": "code",
   "execution_count": 6,
   "id": "e0632e13",
   "metadata": {},
   "outputs": [
    {
     "data": {
      "text/plain": [
       "array([[<AxesSubplot:title={'center':'Multiple_Intakes'}>]], dtype=object)"
      ]
     },
     "execution_count": 6,
     "metadata": {},
     "output_type": "execute_result"
    },
    {
     "data": {
      "image/png": "[encoded data removed]",
      "text/plain": [
       "<Figure size 432x288 with 1 Axes>"
      ]
     },
     "metadata": {
      "needs_background": "light"
     },
     "output_type": "display_data"
    }
   ],
   "source": [
    "df.hist(column='Multiple_Intakes')"
   ]
  },
  {
   "cell_type": "code",
   "execution_count": 29,
   "id": "ccad5d9f",
   "metadata": {},
   "outputs": [
    {
     "data": {
      "text/plain": [
       "array([[<AxesSubplot:title={'center':'Length_of_Stay'}>]], dtype=object)"
      ]
     },
     "execution_count": 29,
     "metadata": {},
     "output_type": "execute_result"
    },
    {
     "data": {
      "image/png": "[encoded data removed]",
      "text/plain": [
       "<Figure size 432x288 with 1 Axes>"
      ]
     },
     "metadata": {
      "needs_background": "light"
     },
     "output_type": "display_data"
    }
   ],
   "source": [
    "df.hist(column='Length_of_Stay', bins=100)"
   ]
  },
  {
   "cell_type": "code",
   "execution_count": 15,
   "id": "8957a17e",
   "metadata": {},
   "outputs": [
    {
     "data": {
      "text/plain": [
       "0        5.0\n",
       "1        NaN\n",
       "2        NaN\n",
       "3        NaN\n",
       "4        NaN\n",
       "        ... \n",
       "75977    NaN\n",
       "75978    NaN\n",
       "75979    NaN\n",
       "75980    NaN\n",
       "75981    NaN\n",
       "Name: Length_of_Stay, Length: 75982, dtype: float64"
      ]
     },
     "execution_count": 15,
     "metadata": {},
     "output_type": "execute_result"
    }
   ],
   "source": [
    "# Find mode of length of stay column\n",
    "df.mode()['Length_of_Stay']"
   ]
  },
  {
   "cell_type": "code",
   "execution_count": 33,
   "id": "598eb84e",
   "metadata": {},
   "outputs": [
    {
     "data": {
      "text/plain": [
       "Text(0.5, 1.0, 'Length of Stay per Animal')"
      ]
     },
     "execution_count": 33,
     "metadata": {},
     "output_type": "execute_result"
    },
    {
     "data": {
      "image/png": "[encoded data removed]",
      "text/plain": [
       "<Figure size 432x288 with 1 Axes>"
      ]
     },
     "metadata": {
      "needs_background": "light"
     },
     "output_type": "display_data"
    }
   ],
   "source": [
    "plt.scatter(df['Unnamed: 0'], df['Length_of_Stay'])\n",
    "plt.xlabel('Animal ID')\n",
    "plt.ylabel('Length of Stay')\n",
    "plt.title('Length of Stay per Animal')"
   ]
  },
  {
   "cell_type": "code",
   "execution_count": 34,
   "id": "f4bb376e",
   "metadata": {},
   "outputs": [
    {
     "data": {
      "image/png": "[encoded data removed]",
      "text/plain": [
       "<Figure size 432x288 with 1 Axes>"
      ]
     },
     "metadata": {
      "needs_background": "light"
     },
     "output_type": "display_data"
    }
   ],
   "source": [
    "# Density plot for length of stay\n",
    "df.Length_of_Stay.plot.density(color='green')\n",
    "plt.title('Density plot for Lenth of Stay')\n",
    "plt.show()"
   ]
  },
  {
   "cell_type": "code",
   "execution_count": 39,
   "id": "ac571d51",
   "metadata": {},
   "outputs": [
    {
     "data": {
      "text/plain": [
       "<function matplotlib.pyplot.show(close=None, block=None)>"
      ]
     },
     "execution_count": 39,
     "metadata": {},
     "output_type": "execute_result"
    },
    {
     "data": {
      "image/png": "[encoded data removed]",
      "text/plain": [
       "<Figure size 432x288 with 1 Axes>"
      ]
     },
     "metadata": {
      "needs_background": "light"
     },
     "output_type": "display_data"
    }
   ],
   "source": [
    "# Plot age and length of stay\n",
    "plt.scatter(df['Age_in_Years'], df['Length_of_Stay'])\n",
    "plt.show"
   ]
  },
  {
   "cell_type": "code",
   "execution_count": 40,
   "id": "ccea7fc5",
   "metadata": {},
   "outputs": [
    {
     "data": {
      "text/plain": [
       "array(['Adult', 'Senior', 'Young', nan, 'Puppy'], dtype=object)"
      ]
     },
     "execution_count": 40,
     "metadata": {},
     "output_type": "execute_result"
    }
   ],
   "source": [
    "df['Age'].unique()"
   ]
  },
  {
   "cell_type": "code",
   "execution_count": 50,
   "id": "30673437",
   "metadata": {},
   "outputs": [
    {
     "data": {
      "text/html": [
       "<div>\n",
       "<style scoped>\n",
       "    .dataframe tbody tr th:only-of-type {\n",
       "        vertical-align: middle;\n",
       "    }\n",
       "\n",
       "    .dataframe tbody tr th {\n",
       "        vertical-align: top;\n",
       "    }\n",
       "\n",
       "    .dataframe thead th {\n",
       "        text-align: right;\n",
       "    }\n",
       "</style>\n",
       "<table border=\"1\" class=\"dataframe\">\n",
       "  <thead>\n",
       "    <tr style=\"text-align: right;\">\n",
       "      <th></th>\n",
       "      <th>Unnamed: 0</th>\n",
       "      <th>Animal ID</th>\n",
       "      <th>Intake_Type</th>\n",
       "      <th>Intake_Condition</th>\n",
       "      <th>Breed</th>\n",
       "      <th>Color</th>\n",
       "      <th>Age_in_Years</th>\n",
       "      <th>Intactness</th>\n",
       "      <th>Sex</th>\n",
       "      <th>Age</th>\n",
       "      <th>...</th>\n",
       "      <th>Breed_update</th>\n",
       "      <th>Breed1</th>\n",
       "      <th>Breed2</th>\n",
       "      <th>AKC_group1</th>\n",
       "      <th>Size1</th>\n",
       "      <th>AKC_group2</th>\n",
       "      <th>Size2</th>\n",
       "      <th>Sorted_Color</th>\n",
       "      <th>Restricted</th>\n",
       "      <th>Multiple_Intakes</th>\n",
       "    </tr>\n",
       "  </thead>\n",
       "  <tbody>\n",
       "    <tr>\n",
       "      <th>1203</th>\n",
       "      <td>1203</td>\n",
       "      <td>A566868</td>\n",
       "      <td>Public Assist</td>\n",
       "      <td>Normal</td>\n",
       "      <td>Pit Bull Mix</td>\n",
       "      <td>Brown/White</td>\n",
       "      <td>0.750000</td>\n",
       "      <td>Intact</td>\n",
       "      <td>Female</td>\n",
       "      <td>Puppy</td>\n",
       "      <td>...</td>\n",
       "      <td>Pit Bull</td>\n",
       "      <td>Pit Bull</td>\n",
       "      <td>NaN</td>\n",
       "      <td>pit bull</td>\n",
       "      <td>large</td>\n",
       "      <td>NaN</td>\n",
       "      <td>NaN</td>\n",
       "      <td>Brown/White</td>\n",
       "      <td>Yes</td>\n",
       "      <td>0</td>\n",
       "    </tr>\n",
       "    <tr>\n",
       "      <th>1204</th>\n",
       "      <td>1204</td>\n",
       "      <td>A566868</td>\n",
       "      <td>Stray</td>\n",
       "      <td>Normal</td>\n",
       "      <td>Pit Bull Mix</td>\n",
       "      <td>Brown/White</td>\n",
       "      <td>0.916667</td>\n",
       "      <td>Intact</td>\n",
       "      <td>Female</td>\n",
       "      <td>Puppy</td>\n",
       "      <td>...</td>\n",
       "      <td>Pit Bull</td>\n",
       "      <td>Pit Bull</td>\n",
       "      <td>NaN</td>\n",
       "      <td>pit bull</td>\n",
       "      <td>large</td>\n",
       "      <td>NaN</td>\n",
       "      <td>NaN</td>\n",
       "      <td>Brown/White</td>\n",
       "      <td>Yes</td>\n",
       "      <td>1</td>\n",
       "    </tr>\n",
       "    <tr>\n",
       "      <th>1205</th>\n",
       "      <td>1205</td>\n",
       "      <td>A566868</td>\n",
       "      <td>Stray</td>\n",
       "      <td>Normal</td>\n",
       "      <td>Pit Bull Mix</td>\n",
       "      <td>Brown/White</td>\n",
       "      <td>1.000000</td>\n",
       "      <td>Intact</td>\n",
       "      <td>Female</td>\n",
       "      <td>Puppy</td>\n",
       "      <td>...</td>\n",
       "      <td>Pit Bull</td>\n",
       "      <td>Pit Bull</td>\n",
       "      <td>NaN</td>\n",
       "      <td>pit bull</td>\n",
       "      <td>large</td>\n",
       "      <td>NaN</td>\n",
       "      <td>NaN</td>\n",
       "      <td>Brown/White</td>\n",
       "      <td>Yes</td>\n",
       "      <td>1</td>\n",
       "    </tr>\n",
       "    <tr>\n",
       "      <th>2152</th>\n",
       "      <td>2152</td>\n",
       "      <td>A615165</td>\n",
       "      <td>Owner Surrender</td>\n",
       "      <td>Normal</td>\n",
       "      <td>Pit Bull Mix</td>\n",
       "      <td>Black/White</td>\n",
       "      <td>1.000000</td>\n",
       "      <td>Altered</td>\n",
       "      <td>Male</td>\n",
       "      <td>Puppy</td>\n",
       "      <td>...</td>\n",
       "      <td>Pit Bull</td>\n",
       "      <td>Pit Bull</td>\n",
       "      <td>NaN</td>\n",
       "      <td>pit bull</td>\n",
       "      <td>large</td>\n",
       "      <td>NaN</td>\n",
       "      <td>NaN</td>\n",
       "      <td>Black/White</td>\n",
       "      <td>Yes</td>\n",
       "      <td>0</td>\n",
       "    </tr>\n",
       "    <tr>\n",
       "      <th>2215</th>\n",
       "      <td>2215</td>\n",
       "      <td>A616584</td>\n",
       "      <td>Owner Surrender</td>\n",
       "      <td>Normal</td>\n",
       "      <td>Pit Bull Mix</td>\n",
       "      <td>White/Black</td>\n",
       "      <td>1.000000</td>\n",
       "      <td>Altered</td>\n",
       "      <td>Male</td>\n",
       "      <td>Puppy</td>\n",
       "      <td>...</td>\n",
       "      <td>Pit Bull</td>\n",
       "      <td>Pit Bull</td>\n",
       "      <td>NaN</td>\n",
       "      <td>pit bull</td>\n",
       "      <td>large</td>\n",
       "      <td>NaN</td>\n",
       "      <td>NaN</td>\n",
       "      <td>Black/White</td>\n",
       "      <td>Yes</td>\n",
       "      <td>0</td>\n",
       "    </tr>\n",
       "  </tbody>\n",
       "</table>\n",
       "<p>5 rows × 25 columns</p>\n",
       "</div>"
      ],
      "text/plain": [
       "      Unnamed: 0 Animal ID      Intake_Type Intake_Condition         Breed  \\\n",
       "1203        1203   A566868    Public Assist           Normal  Pit Bull Mix   \n",
       "1204        1204   A566868            Stray           Normal  Pit Bull Mix   \n",
       "1205        1205   A566868            Stray           Normal  Pit Bull Mix   \n",
       "2152        2152   A615165  Owner Surrender           Normal  Pit Bull Mix   \n",
       "2215        2215   A616584  Owner Surrender           Normal  Pit Bull Mix   \n",
       "\n",
       "            Color  Age_in_Years Intactness     Sex    Age  ... Breed_update  \\\n",
       "1203  Brown/White      0.750000     Intact  Female  Puppy  ...     Pit Bull   \n",
       "1204  Brown/White      0.916667     Intact  Female  Puppy  ...     Pit Bull   \n",
       "1205  Brown/White      1.000000     Intact  Female  Puppy  ...     Pit Bull   \n",
       "2152  Black/White      1.000000    Altered    Male  Puppy  ...     Pit Bull   \n",
       "2215  White/Black      1.000000    Altered    Male  Puppy  ...     Pit Bull   \n",
       "\n",
       "        Breed1  Breed2  AKC_group1  Size1 AKC_group2 Size2 Sorted_Color  \\\n",
       "1203  Pit Bull     NaN    pit bull  large        NaN   NaN  Brown/White   \n",
       "1204  Pit Bull     NaN    pit bull  large        NaN   NaN  Brown/White   \n",
       "1205  Pit Bull     NaN    pit bull  large        NaN   NaN  Brown/White   \n",
       "2152  Pit Bull     NaN    pit bull  large        NaN   NaN  Black/White   \n",
       "2215  Pit Bull     NaN    pit bull  large        NaN   NaN  Black/White   \n",
       "\n",
       "     Restricted Multiple_Intakes  \n",
       "1203        Yes                0  \n",
       "1204        Yes                1  \n",
       "1205        Yes                1  \n",
       "2152        Yes                0  \n",
       "2215        Yes                0  \n",
       "\n",
       "[5 rows x 25 columns]"
      ]
     },
     "execution_count": 50,
     "metadata": {},
     "output_type": "execute_result"
    }
   ],
   "source": [
    "# create df's for each age group\n",
    "adult_df = df[df['Age']=='Adult']\n",
    "senior_df = df[df['Age']=='Senior']\n",
    "young_df = df[df['Age']=='Young']\n",
    "puppy_df = df[df['Age']=='Puppy']\n",
    "puppy_df.head()"
   ]
  },
  {
   "cell_type": "code",
   "execution_count": 69,
   "id": "a1dc69a9",
   "metadata": {},
   "outputs": [],
   "source": [
    "# Get the count per length of stay\n",
    "adult_count = adult_df.groupby([\"Length_of_Stay\"]).count()[\"Animal ID\"]\n",
    "senior_count = senior_df.groupby([\"Length_of_Stay\"]).count()[\"Animal ID\"]\n",
    "young_count = young_df.groupby([\"Length_of_Stay\"]).count()[\"Animal ID\"]\n",
    "puppy_count = puppy_df.groupby([\"Length_of_Stay\"]).count()[\"Animal ID\"]\n"
   ]
  },
  {
   "cell_type": "code",
   "execution_count": 79,
   "id": "f9a099e5",
   "metadata": {},
   "outputs": [
    {
     "data": {
      "text/plain": [
       "<AxesSubplot:>"
      ]
     },
     "execution_count": 79,
     "metadata": {},
     "output_type": "execute_result"
    },
    {
     "data": {
      "image/png": "[encoded data removed]",
      "text/plain": [
       "<Figure size 432x288 with 1 Axes>"
      ]
     },
     "metadata": {
      "needs_background": "light"
     },
     "output_type": "display_data"
    }
   ],
   "source": [
    "adult_count.hist(bins=50)"
   ]
  },
  {
   "cell_type": "code",
   "execution_count": 82,
   "id": "9da56802",
   "metadata": {},
   "outputs": [
    {
     "data": {
      "text/plain": [
       "count     358.000000\n",
       "mean       31.357542\n",
       "std       140.875576\n",
       "min         1.000000\n",
       "25%         1.000000\n",
       "50%         2.000000\n",
       "75%         8.000000\n",
       "max      1490.000000\n",
       "Name: Animal ID, dtype: float64"
      ]
     },
     "execution_count": 82,
     "metadata": {},
     "output_type": "execute_result"
    }
   ],
   "source": [
    "adult_count.describe()"
   ]
  },
  {
   "cell_type": "code",
   "execution_count": 83,
   "id": "2b137a4a",
   "metadata": {},
   "outputs": [
    {
     "data": {
      "text/plain": [
       "<AxesSubplot:>"
      ]
     },
     "execution_count": 83,
     "metadata": {},
     "output_type": "execute_result"
    },
    {
     "data": {
      "image/png": "[encoded data removed]",
      "text/plain": [
       "<Figure size 432x288 with 1 Axes>"
      ]
     },
     "metadata": {
      "needs_background": "light"
     },
     "output_type": "display_data"
    }
   ],
   "source": [
    "senior_count.hist(bins=50)"
   ]
  },
  {
   "cell_type": "code",
   "execution_count": 75,
   "id": "e84bbe30",
   "metadata": {},
   "outputs": [
    {
     "data": {
      "text/plain": [
       "count     304.000000\n",
       "mean       21.815789\n",
       "std       114.705444\n",
       "min         1.000000\n",
       "25%         1.000000\n",
       "50%         2.000000\n",
       "75%         5.000000\n",
       "max      1350.000000\n",
       "Name: Animal ID, dtype: float64"
      ]
     },
     "execution_count": 75,
     "metadata": {},
     "output_type": "execute_result"
    }
   ],
   "source": [
    "senior_count.describe()"
   ]
  },
  {
   "cell_type": "code",
   "execution_count": 84,
   "id": "f7fc8d22",
   "metadata": {},
   "outputs": [
    {
     "data": {
      "text/plain": [
       "<AxesSubplot:>"
      ]
     },
     "execution_count": 84,
     "metadata": {},
     "output_type": "execute_result"
    },
    {
     "data": {
      "image/png": "[encoded data removed]",
      "text/plain": [
       "<Figure size 432x288 with 1 Axes>"
      ]
     },
     "metadata": {
      "needs_background": "light"
     },
     "output_type": "display_data"
    }
   ],
   "source": [
    "young_count.hist(bins=50)"
   ]
  },
  {
   "cell_type": "code",
   "execution_count": 86,
   "id": "1b4198b8",
   "metadata": {},
   "outputs": [
    {
     "data": {
      "text/plain": [
       "count     385.000000\n",
       "mean       52.758442\n",
       "std       221.399447\n",
       "min         1.000000\n",
       "25%         1.000000\n",
       "50%         3.000000\n",
       "75%        13.000000\n",
       "max      1937.000000\n",
       "Name: Animal ID, dtype: float64"
      ]
     },
     "execution_count": 86,
     "metadata": {},
     "output_type": "execute_result"
    }
   ],
   "source": [
    "young_count.describe()"
   ]
  },
  {
   "cell_type": "code",
   "execution_count": 87,
   "id": "81db4e6b",
   "metadata": {},
   "outputs": [
    {
     "data": {
      "text/plain": [
       "<AxesSubplot:>"
      ]
     },
     "execution_count": 87,
     "metadata": {},
     "output_type": "execute_result"
    },
    {
     "data": {
      "image/png": "[encoded data removed]",
      "text/plain": [
       "<Figure size 432x288 with 1 Axes>"
      ]
     },
     "metadata": {
      "needs_background": "light"
     },
     "output_type": "display_data"
    }
   ],
   "source": [
    "puppy_count.hist(bins=50)"
   ]
  },
  {
   "cell_type": "code",
   "execution_count": 73,
   "id": "f4a9ade7",
   "metadata": {},
   "outputs": [
    {
     "data": {
      "text/plain": [
       "count     342.000000\n",
       "mean      109.488304\n",
       "std       523.312183\n",
       "min         1.000000\n",
       "25%         1.000000\n",
       "50%         3.000000\n",
       "75%        20.000000\n",
       "max      6279.000000\n",
       "Name: Animal ID, dtype: float64"
      ]
     },
     "execution_count": 73,
     "metadata": {},
     "output_type": "execute_result"
    }
   ],
   "source": [
    "puppy_count.describe()"
   ]
  },
  {
   "cell_type": "code",
   "execution_count": null,
   "id": "f2fe3c88",
   "metadata": {},
   "outputs": [],
   "source": []
  }
 ],
 "metadata": {
  "kernelspec": {
   "display_name": "mlenv",
   "language": "python",
   "name": "mlenv"
  },
  "language_info": {
   "codemirror_mode": {
    "name": "ipython",
    "version": 3
   },
   "file_extension": ".py",
   "mimetype": "text/x-python",
   "name": "python",
   "nbconvert_exporter": "python",
   "pygments_lexer": "ipython3",
   "version": "3.7.11"
  }
 },
 "nbformat": 4,
 "nbformat_minor": 5
}
